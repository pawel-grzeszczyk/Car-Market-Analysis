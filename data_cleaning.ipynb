{
 "cells": [
  {
   "cell_type": "code",
   "execution_count": 253,
   "metadata": {},
   "outputs": [
    {
     "data": {
      "text/plain": [
       "<module 'utlis' from 'd:\\\\1. Projects\\\\DNA\\\\Portfolio\\\\car_market_analysis\\\\utlis.py'>"
      ]
     },
     "execution_count": 253,
     "metadata": {},
     "output_type": "execute_result"
    }
   ],
   "source": [
    "import pandas as pd\n",
    "import matplotlib.pyplot as plt\n",
    "import seaborn as sns\n",
    "\n",
    "# from utlis import rm_units_and_conv_int\n",
    "import utlis\n",
    "\n",
    "import importlib\n",
    "importlib.reload(utlis)"
   ]
  },
  {
   "attachments": {},
   "cell_type": "markdown",
   "metadata": {},
   "source": [
    "### **Merging all datasets into one**"
   ]
  },
  {
   "attachments": {},
   "cell_type": "markdown",
   "metadata": {},
   "source": [
    "Make sure to uncomment cells in this section in order to create a dataset that contains all data from data scraping."
   ]
  },
  {
   "cell_type": "code",
   "execution_count": 254,
   "metadata": {},
   "outputs": [
    {
     "name": "stdout",
     "output_type": "stream",
     "text": [
      "(134049, 19)\n"
     ]
    },
    {
     "data": {
      "text/html": [
       "<div>\n",
       "<style scoped>\n",
       "    .dataframe tbody tr th:only-of-type {\n",
       "        vertical-align: middle;\n",
       "    }\n",
       "\n",
       "    .dataframe tbody tr th {\n",
       "        vertical-align: top;\n",
       "    }\n",
       "\n",
       "    .dataframe thead th {\n",
       "        text-align: right;\n",
       "    }\n",
       "</style>\n",
       "<table border=\"1\" class=\"dataframe\">\n",
       "  <thead>\n",
       "    <tr style=\"text-align: right;\">\n",
       "      <th></th>\n",
       "      <th>Marka pojazdu</th>\n",
       "      <th>Model pojazdu</th>\n",
       "      <th>Rok produkcji</th>\n",
       "      <th>Przebieg</th>\n",
       "      <th>Pojemność skokowa</th>\n",
       "      <th>Rodzaj paliwa</th>\n",
       "      <th>Moc</th>\n",
       "      <th>Skrzynia biegów</th>\n",
       "      <th>Napęd</th>\n",
       "      <th>Spalanie W Mieście</th>\n",
       "      <th>Typ nadwozia</th>\n",
       "      <th>Liczba drzwi</th>\n",
       "      <th>Liczba miejsc</th>\n",
       "      <th>Kolor</th>\n",
       "      <th>Kraj pochodzenia</th>\n",
       "      <th>Bezwypadkowy</th>\n",
       "      <th>Serwisowany w ASO</th>\n",
       "      <th>Stan</th>\n",
       "      <th>Cena</th>\n",
       "    </tr>\n",
       "  </thead>\n",
       "  <tbody>\n",
       "    <tr>\n",
       "      <th>0</th>\n",
       "      <td>Audi</td>\n",
       "      <td>SQ7</td>\n",
       "      <td>2017.0</td>\n",
       "      <td>142 800 km</td>\n",
       "      <td>3 956 cm3</td>\n",
       "      <td>Diesel</td>\n",
       "      <td>435 KM</td>\n",
       "      <td>Automatyczna</td>\n",
       "      <td>4x4 (stały)</td>\n",
       "      <td>8 l/100km</td>\n",
       "      <td>SUV</td>\n",
       "      <td>5.0</td>\n",
       "      <td>7.0</td>\n",
       "      <td>Szary</td>\n",
       "      <td>Polska</td>\n",
       "      <td>Tak</td>\n",
       "      <td>Tak</td>\n",
       "      <td>Używane</td>\n",
       "      <td>269 000        PLN</td>\n",
       "    </tr>\n",
       "    <tr>\n",
       "      <th>1</th>\n",
       "      <td>Audi</td>\n",
       "      <td>A3</td>\n",
       "      <td>2010.0</td>\n",
       "      <td>236 000 km</td>\n",
       "      <td>1 395 cm3</td>\n",
       "      <td>Benzyna</td>\n",
       "      <td>125 KM</td>\n",
       "      <td>Manualna</td>\n",
       "      <td>Na przednie koła</td>\n",
       "      <td>NaN</td>\n",
       "      <td>Kompakt</td>\n",
       "      <td>5.0</td>\n",
       "      <td>5.0</td>\n",
       "      <td>Czarny</td>\n",
       "      <td>NaN</td>\n",
       "      <td>Tak</td>\n",
       "      <td>Tak</td>\n",
       "      <td>Używane</td>\n",
       "      <td>29 900        PLN</td>\n",
       "    </tr>\n",
       "    <tr>\n",
       "      <th>2</th>\n",
       "      <td>Audi</td>\n",
       "      <td>A4</td>\n",
       "      <td>2018.0</td>\n",
       "      <td>84 500 km</td>\n",
       "      <td>1 968 cm3</td>\n",
       "      <td>Diesel</td>\n",
       "      <td>190 KM</td>\n",
       "      <td>Automatyczna</td>\n",
       "      <td>4x4 (stały)</td>\n",
       "      <td>5 l/100km</td>\n",
       "      <td>Kombi</td>\n",
       "      <td>5.0</td>\n",
       "      <td>5.0</td>\n",
       "      <td>Szary</td>\n",
       "      <td>NaN</td>\n",
       "      <td>NaN</td>\n",
       "      <td>NaN</td>\n",
       "      <td>Używane</td>\n",
       "      <td>60 000        PLN</td>\n",
       "    </tr>\n",
       "    <tr>\n",
       "      <th>3</th>\n",
       "      <td>Audi</td>\n",
       "      <td>Q5</td>\n",
       "      <td>2018.0</td>\n",
       "      <td>38 000 km</td>\n",
       "      <td>1 984 cm3</td>\n",
       "      <td>Benzyna</td>\n",
       "      <td>252 KM</td>\n",
       "      <td>Automatyczna</td>\n",
       "      <td>4x4 (stały)</td>\n",
       "      <td>8 l/100km</td>\n",
       "      <td>SUV</td>\n",
       "      <td>5.0</td>\n",
       "      <td>5.0</td>\n",
       "      <td>Szary</td>\n",
       "      <td>NaN</td>\n",
       "      <td>NaN</td>\n",
       "      <td>NaN</td>\n",
       "      <td>Używane</td>\n",
       "      <td>75 000        PLN</td>\n",
       "    </tr>\n",
       "    <tr>\n",
       "      <th>4</th>\n",
       "      <td>Audi</td>\n",
       "      <td>A7</td>\n",
       "      <td>2016.0</td>\n",
       "      <td>74 885 km</td>\n",
       "      <td>2 995 cm3</td>\n",
       "      <td>Benzyna</td>\n",
       "      <td>333 KM</td>\n",
       "      <td>Automatyczna</td>\n",
       "      <td>4x4 (stały)</td>\n",
       "      <td>10 l/100km</td>\n",
       "      <td>Kompakt</td>\n",
       "      <td>5.0</td>\n",
       "      <td>5.0</td>\n",
       "      <td>Biały</td>\n",
       "      <td>NaN</td>\n",
       "      <td>NaN</td>\n",
       "      <td>NaN</td>\n",
       "      <td>Używane</td>\n",
       "      <td>75 000        PLN</td>\n",
       "    </tr>\n",
       "  </tbody>\n",
       "</table>\n",
       "</div>"
      ],
      "text/plain": [
       "  Marka pojazdu Model pojazdu  Rok produkcji    Przebieg Pojemność skokowa  \\\n",
       "0          Audi           SQ7         2017.0  142 800 km         3 956 cm3   \n",
       "1          Audi            A3         2010.0  236 000 km         1 395 cm3   \n",
       "2          Audi            A4         2018.0   84 500 km         1 968 cm3   \n",
       "3          Audi            Q5         2018.0   38 000 km         1 984 cm3   \n",
       "4          Audi            A7         2016.0   74 885 km         2 995 cm3   \n",
       "\n",
       "  Rodzaj paliwa     Moc Skrzynia biegów             Napęd Spalanie W Mieście  \\\n",
       "0        Diesel  435 KM    Automatyczna       4x4 (stały)          8 l/100km   \n",
       "1       Benzyna  125 KM        Manualna  Na przednie koła                NaN   \n",
       "2        Diesel  190 KM    Automatyczna       4x4 (stały)          5 l/100km   \n",
       "3       Benzyna  252 KM    Automatyczna       4x4 (stały)          8 l/100km   \n",
       "4       Benzyna  333 KM    Automatyczna       4x4 (stały)         10 l/100km   \n",
       "\n",
       "  Typ nadwozia  Liczba drzwi  Liczba miejsc   Kolor Kraj pochodzenia  \\\n",
       "0          SUV           5.0            7.0   Szary           Polska   \n",
       "1      Kompakt           5.0            5.0  Czarny              NaN   \n",
       "2        Kombi           5.0            5.0   Szary              NaN   \n",
       "3          SUV           5.0            5.0   Szary              NaN   \n",
       "4      Kompakt           5.0            5.0   Biały              NaN   \n",
       "\n",
       "  Bezwypadkowy Serwisowany w ASO     Stan                Cena  \n",
       "0          Tak               Tak  Używane  269 000        PLN  \n",
       "1          Tak               Tak  Używane   29 900        PLN  \n",
       "2          NaN               NaN  Używane   60 000        PLN  \n",
       "3          NaN               NaN  Używane   75 000        PLN  \n",
       "4          NaN               NaN  Używane   75 000        PLN  "
      ]
     },
     "execution_count": 254,
     "metadata": {},
     "output_type": "execute_result"
    }
   ],
   "source": [
    "from os import listdir\n",
    "\n",
    "PATH = 'data_scraping/data/datasets/'\n",
    "\n",
    "# Concatenating all datasets\n",
    "for i, ds in enumerate(listdir(PATH)):\n",
    "    if i == 0:\n",
    "        data = pd.read_csv(f'{PATH}{ds}')\n",
    "    else:\n",
    "        data = pd.concat([data, pd.read_csv(f'{PATH}{ds}')])\n",
    "\n",
    "print(data.shape)\n",
    "data.head()"
   ]
  },
  {
   "cell_type": "code",
   "execution_count": 255,
   "metadata": {},
   "outputs": [
    {
     "data": {
      "text/html": [
       "<div>\n",
       "<style scoped>\n",
       "    .dataframe tbody tr th:only-of-type {\n",
       "        vertical-align: middle;\n",
       "    }\n",
       "\n",
       "    .dataframe tbody tr th {\n",
       "        vertical-align: top;\n",
       "    }\n",
       "\n",
       "    .dataframe thead th {\n",
       "        text-align: right;\n",
       "    }\n",
       "</style>\n",
       "<table border=\"1\" class=\"dataframe\">\n",
       "  <thead>\n",
       "    <tr style=\"text-align: right;\">\n",
       "      <th></th>\n",
       "      <th>brand</th>\n",
       "      <th>model</th>\n",
       "      <th>year</th>\n",
       "      <th>mileage</th>\n",
       "      <th>engine_capacity</th>\n",
       "      <th>fuel</th>\n",
       "      <th>power</th>\n",
       "      <th>gearbox</th>\n",
       "      <th>drive</th>\n",
       "      <th>city_fuel_consumption</th>\n",
       "      <th>body</th>\n",
       "      <th>doors</th>\n",
       "      <th>seats</th>\n",
       "      <th>color</th>\n",
       "      <th>origin_country</th>\n",
       "      <th>accident_free</th>\n",
       "      <th>serviced_at_ASO</th>\n",
       "      <th>condition</th>\n",
       "      <th>price</th>\n",
       "    </tr>\n",
       "  </thead>\n",
       "  <tbody>\n",
       "    <tr>\n",
       "      <th>0</th>\n",
       "      <td>Audi</td>\n",
       "      <td>SQ7</td>\n",
       "      <td>2017.0</td>\n",
       "      <td>142 800 km</td>\n",
       "      <td>3 956 cm3</td>\n",
       "      <td>Diesel</td>\n",
       "      <td>435 KM</td>\n",
       "      <td>Automatyczna</td>\n",
       "      <td>4x4 (stały)</td>\n",
       "      <td>8 l/100km</td>\n",
       "      <td>SUV</td>\n",
       "      <td>5.0</td>\n",
       "      <td>7.0</td>\n",
       "      <td>Szary</td>\n",
       "      <td>Polska</td>\n",
       "      <td>Tak</td>\n",
       "      <td>Tak</td>\n",
       "      <td>Używane</td>\n",
       "      <td>269 000        PLN</td>\n",
       "    </tr>\n",
       "    <tr>\n",
       "      <th>1</th>\n",
       "      <td>Audi</td>\n",
       "      <td>A3</td>\n",
       "      <td>2010.0</td>\n",
       "      <td>236 000 km</td>\n",
       "      <td>1 395 cm3</td>\n",
       "      <td>Benzyna</td>\n",
       "      <td>125 KM</td>\n",
       "      <td>Manualna</td>\n",
       "      <td>Na przednie koła</td>\n",
       "      <td>NaN</td>\n",
       "      <td>Kompakt</td>\n",
       "      <td>5.0</td>\n",
       "      <td>5.0</td>\n",
       "      <td>Czarny</td>\n",
       "      <td>NaN</td>\n",
       "      <td>Tak</td>\n",
       "      <td>Tak</td>\n",
       "      <td>Używane</td>\n",
       "      <td>29 900        PLN</td>\n",
       "    </tr>\n",
       "    <tr>\n",
       "      <th>2</th>\n",
       "      <td>Audi</td>\n",
       "      <td>A4</td>\n",
       "      <td>2018.0</td>\n",
       "      <td>84 500 km</td>\n",
       "      <td>1 968 cm3</td>\n",
       "      <td>Diesel</td>\n",
       "      <td>190 KM</td>\n",
       "      <td>Automatyczna</td>\n",
       "      <td>4x4 (stały)</td>\n",
       "      <td>5 l/100km</td>\n",
       "      <td>Kombi</td>\n",
       "      <td>5.0</td>\n",
       "      <td>5.0</td>\n",
       "      <td>Szary</td>\n",
       "      <td>NaN</td>\n",
       "      <td>NaN</td>\n",
       "      <td>NaN</td>\n",
       "      <td>Używane</td>\n",
       "      <td>60 000        PLN</td>\n",
       "    </tr>\n",
       "    <tr>\n",
       "      <th>3</th>\n",
       "      <td>Audi</td>\n",
       "      <td>Q5</td>\n",
       "      <td>2018.0</td>\n",
       "      <td>38 000 km</td>\n",
       "      <td>1 984 cm3</td>\n",
       "      <td>Benzyna</td>\n",
       "      <td>252 KM</td>\n",
       "      <td>Automatyczna</td>\n",
       "      <td>4x4 (stały)</td>\n",
       "      <td>8 l/100km</td>\n",
       "      <td>SUV</td>\n",
       "      <td>5.0</td>\n",
       "      <td>5.0</td>\n",
       "      <td>Szary</td>\n",
       "      <td>NaN</td>\n",
       "      <td>NaN</td>\n",
       "      <td>NaN</td>\n",
       "      <td>Używane</td>\n",
       "      <td>75 000        PLN</td>\n",
       "    </tr>\n",
       "    <tr>\n",
       "      <th>4</th>\n",
       "      <td>Audi</td>\n",
       "      <td>A7</td>\n",
       "      <td>2016.0</td>\n",
       "      <td>74 885 km</td>\n",
       "      <td>2 995 cm3</td>\n",
       "      <td>Benzyna</td>\n",
       "      <td>333 KM</td>\n",
       "      <td>Automatyczna</td>\n",
       "      <td>4x4 (stały)</td>\n",
       "      <td>10 l/100km</td>\n",
       "      <td>Kompakt</td>\n",
       "      <td>5.0</td>\n",
       "      <td>5.0</td>\n",
       "      <td>Biały</td>\n",
       "      <td>NaN</td>\n",
       "      <td>NaN</td>\n",
       "      <td>NaN</td>\n",
       "      <td>Używane</td>\n",
       "      <td>75 000        PLN</td>\n",
       "    </tr>\n",
       "  </tbody>\n",
       "</table>\n",
       "</div>"
      ],
      "text/plain": [
       "  brand model    year     mileage engine_capacity     fuel   power  \\\n",
       "0  Audi   SQ7  2017.0  142 800 km       3 956 cm3   Diesel  435 KM   \n",
       "1  Audi    A3  2010.0  236 000 km       1 395 cm3  Benzyna  125 KM   \n",
       "2  Audi    A4  2018.0   84 500 km       1 968 cm3   Diesel  190 KM   \n",
       "3  Audi    Q5  2018.0   38 000 km       1 984 cm3  Benzyna  252 KM   \n",
       "4  Audi    A7  2016.0   74 885 km       2 995 cm3  Benzyna  333 KM   \n",
       "\n",
       "        gearbox             drive city_fuel_consumption     body  doors  \\\n",
       "0  Automatyczna       4x4 (stały)             8 l/100km      SUV    5.0   \n",
       "1      Manualna  Na przednie koła                   NaN  Kompakt    5.0   \n",
       "2  Automatyczna       4x4 (stały)             5 l/100km    Kombi    5.0   \n",
       "3  Automatyczna       4x4 (stały)             8 l/100km      SUV    5.0   \n",
       "4  Automatyczna       4x4 (stały)            10 l/100km  Kompakt    5.0   \n",
       "\n",
       "   seats   color origin_country accident_free serviced_at_ASO condition  \\\n",
       "0    7.0   Szary         Polska           Tak             Tak   Używane   \n",
       "1    5.0  Czarny            NaN           Tak             Tak   Używane   \n",
       "2    5.0   Szary            NaN           NaN             NaN   Używane   \n",
       "3    5.0   Szary            NaN           NaN             NaN   Używane   \n",
       "4    5.0   Biały            NaN           NaN             NaN   Używane   \n",
       "\n",
       "                price  \n",
       "0  269 000        PLN  \n",
       "1   29 900        PLN  \n",
       "2   60 000        PLN  \n",
       "3   75 000        PLN  \n",
       "4   75 000        PLN  "
      ]
     },
     "execution_count": 255,
     "metadata": {},
     "output_type": "execute_result"
    }
   ],
   "source": [
    "# Translating column names from polish to english\n",
    "colnames = {\n",
    "    'Marka pojazdu': 'brand',\n",
    "    'Model pojazdu': 'model',\n",
    "    'Rok produkcji': 'year',\n",
    "    'Przebieg': 'mileage',\n",
    "    'Pojemność skokowa': 'engine_capacity',\n",
    "    'Rodzaj paliwa': 'fuel',\n",
    "    'Moc': 'power',\n",
    "    'Skrzynia biegów': 'gearbox',\n",
    "    'Napęd': 'drive',\n",
    "    'Spalanie W Mieście': 'city_fuel_consumption',\n",
    "    'Typ nadwozia': 'body',\n",
    "    'Liczba drzwi': 'doors',\n",
    "    'Liczba miejsc': 'seats',\n",
    "    'Kolor': 'color',\n",
    "    'Kraj pochodzenia': 'origin_country',\n",
    "    'Bezwypadkowy': 'accident_free',\n",
    "    'Serwisowany w ASO': 'serviced_at_ASO',\n",
    "    'Stan': 'condition',\n",
    "    'Cena': 'price'\n",
    "}\n",
    "data.rename(columns=colnames, inplace=True)\n",
    "\n",
    "data.head()"
   ]
  },
  {
   "cell_type": "code",
   "execution_count": 256,
   "metadata": {},
   "outputs": [],
   "source": [
    "# Save all data in one file\n",
    "data.to_csv('data_scraping/data/all_data.csv', index=False)"
   ]
  },
  {
   "attachments": {},
   "cell_type": "markdown",
   "metadata": {},
   "source": [
    "# **Data cleaning**"
   ]
  },
  {
   "cell_type": "code",
   "execution_count": 257,
   "metadata": {},
   "outputs": [
    {
     "data": {
      "text/html": [
       "<div>\n",
       "<style scoped>\n",
       "    .dataframe tbody tr th:only-of-type {\n",
       "        vertical-align: middle;\n",
       "    }\n",
       "\n",
       "    .dataframe tbody tr th {\n",
       "        vertical-align: top;\n",
       "    }\n",
       "\n",
       "    .dataframe thead th {\n",
       "        text-align: right;\n",
       "    }\n",
       "</style>\n",
       "<table border=\"1\" class=\"dataframe\">\n",
       "  <thead>\n",
       "    <tr style=\"text-align: right;\">\n",
       "      <th></th>\n",
       "      <th>brand</th>\n",
       "      <th>model</th>\n",
       "      <th>year</th>\n",
       "      <th>mileage</th>\n",
       "      <th>engine_capacity</th>\n",
       "      <th>fuel</th>\n",
       "      <th>power</th>\n",
       "      <th>gearbox</th>\n",
       "      <th>drive</th>\n",
       "      <th>city_fuel_consumption</th>\n",
       "      <th>body</th>\n",
       "      <th>doors</th>\n",
       "      <th>seats</th>\n",
       "      <th>color</th>\n",
       "      <th>origin_country</th>\n",
       "      <th>accident_free</th>\n",
       "      <th>serviced_at_ASO</th>\n",
       "      <th>condition</th>\n",
       "      <th>price</th>\n",
       "    </tr>\n",
       "  </thead>\n",
       "  <tbody>\n",
       "    <tr>\n",
       "      <th>0</th>\n",
       "      <td>Audi</td>\n",
       "      <td>SQ7</td>\n",
       "      <td>2017.0</td>\n",
       "      <td>142 800 km</td>\n",
       "      <td>3 956 cm3</td>\n",
       "      <td>Diesel</td>\n",
       "      <td>435 KM</td>\n",
       "      <td>Automatyczna</td>\n",
       "      <td>4x4 (stały)</td>\n",
       "      <td>8 l/100km</td>\n",
       "      <td>SUV</td>\n",
       "      <td>5.0</td>\n",
       "      <td>7.0</td>\n",
       "      <td>Szary</td>\n",
       "      <td>Polska</td>\n",
       "      <td>Tak</td>\n",
       "      <td>Tak</td>\n",
       "      <td>Używane</td>\n",
       "      <td>269 000        PLN</td>\n",
       "    </tr>\n",
       "    <tr>\n",
       "      <th>1</th>\n",
       "      <td>Audi</td>\n",
       "      <td>A3</td>\n",
       "      <td>2010.0</td>\n",
       "      <td>236 000 km</td>\n",
       "      <td>1 395 cm3</td>\n",
       "      <td>Benzyna</td>\n",
       "      <td>125 KM</td>\n",
       "      <td>Manualna</td>\n",
       "      <td>Na przednie koła</td>\n",
       "      <td>NaN</td>\n",
       "      <td>Kompakt</td>\n",
       "      <td>5.0</td>\n",
       "      <td>5.0</td>\n",
       "      <td>Czarny</td>\n",
       "      <td>NaN</td>\n",
       "      <td>Tak</td>\n",
       "      <td>Tak</td>\n",
       "      <td>Używane</td>\n",
       "      <td>29 900        PLN</td>\n",
       "    </tr>\n",
       "    <tr>\n",
       "      <th>2</th>\n",
       "      <td>Audi</td>\n",
       "      <td>A4</td>\n",
       "      <td>2018.0</td>\n",
       "      <td>84 500 km</td>\n",
       "      <td>1 968 cm3</td>\n",
       "      <td>Diesel</td>\n",
       "      <td>190 KM</td>\n",
       "      <td>Automatyczna</td>\n",
       "      <td>4x4 (stały)</td>\n",
       "      <td>5 l/100km</td>\n",
       "      <td>Kombi</td>\n",
       "      <td>5.0</td>\n",
       "      <td>5.0</td>\n",
       "      <td>Szary</td>\n",
       "      <td>NaN</td>\n",
       "      <td>NaN</td>\n",
       "      <td>NaN</td>\n",
       "      <td>Używane</td>\n",
       "      <td>60 000        PLN</td>\n",
       "    </tr>\n",
       "    <tr>\n",
       "      <th>3</th>\n",
       "      <td>Audi</td>\n",
       "      <td>Q5</td>\n",
       "      <td>2018.0</td>\n",
       "      <td>38 000 km</td>\n",
       "      <td>1 984 cm3</td>\n",
       "      <td>Benzyna</td>\n",
       "      <td>252 KM</td>\n",
       "      <td>Automatyczna</td>\n",
       "      <td>4x4 (stały)</td>\n",
       "      <td>8 l/100km</td>\n",
       "      <td>SUV</td>\n",
       "      <td>5.0</td>\n",
       "      <td>5.0</td>\n",
       "      <td>Szary</td>\n",
       "      <td>NaN</td>\n",
       "      <td>NaN</td>\n",
       "      <td>NaN</td>\n",
       "      <td>Używane</td>\n",
       "      <td>75 000        PLN</td>\n",
       "    </tr>\n",
       "    <tr>\n",
       "      <th>4</th>\n",
       "      <td>Audi</td>\n",
       "      <td>A7</td>\n",
       "      <td>2016.0</td>\n",
       "      <td>74 885 km</td>\n",
       "      <td>2 995 cm3</td>\n",
       "      <td>Benzyna</td>\n",
       "      <td>333 KM</td>\n",
       "      <td>Automatyczna</td>\n",
       "      <td>4x4 (stały)</td>\n",
       "      <td>10 l/100km</td>\n",
       "      <td>Kompakt</td>\n",
       "      <td>5.0</td>\n",
       "      <td>5.0</td>\n",
       "      <td>Biały</td>\n",
       "      <td>NaN</td>\n",
       "      <td>NaN</td>\n",
       "      <td>NaN</td>\n",
       "      <td>Używane</td>\n",
       "      <td>75 000        PLN</td>\n",
       "    </tr>\n",
       "  </tbody>\n",
       "</table>\n",
       "</div>"
      ],
      "text/plain": [
       "  brand model    year     mileage engine_capacity     fuel   power  \\\n",
       "0  Audi   SQ7  2017.0  142 800 km       3 956 cm3   Diesel  435 KM   \n",
       "1  Audi    A3  2010.0  236 000 km       1 395 cm3  Benzyna  125 KM   \n",
       "2  Audi    A4  2018.0   84 500 km       1 968 cm3   Diesel  190 KM   \n",
       "3  Audi    Q5  2018.0   38 000 km       1 984 cm3  Benzyna  252 KM   \n",
       "4  Audi    A7  2016.0   74 885 km       2 995 cm3  Benzyna  333 KM   \n",
       "\n",
       "        gearbox             drive city_fuel_consumption     body  doors  \\\n",
       "0  Automatyczna       4x4 (stały)             8 l/100km      SUV    5.0   \n",
       "1      Manualna  Na przednie koła                   NaN  Kompakt    5.0   \n",
       "2  Automatyczna       4x4 (stały)             5 l/100km    Kombi    5.0   \n",
       "3  Automatyczna       4x4 (stały)             8 l/100km      SUV    5.0   \n",
       "4  Automatyczna       4x4 (stały)            10 l/100km  Kompakt    5.0   \n",
       "\n",
       "   seats   color origin_country accident_free serviced_at_ASO condition  \\\n",
       "0    7.0   Szary         Polska           Tak             Tak   Używane   \n",
       "1    5.0  Czarny            NaN           Tak             Tak   Używane   \n",
       "2    5.0   Szary            NaN           NaN             NaN   Używane   \n",
       "3    5.0   Szary            NaN           NaN             NaN   Używane   \n",
       "4    5.0   Biały            NaN           NaN             NaN   Używane   \n",
       "\n",
       "                price  \n",
       "0  269 000        PLN  \n",
       "1   29 900        PLN  \n",
       "2   60 000        PLN  \n",
       "3   75 000        PLN  \n",
       "4   75 000        PLN  "
      ]
     },
     "execution_count": 257,
     "metadata": {},
     "output_type": "execute_result"
    }
   ],
   "source": [
    "data = pd.read_csv('data_scraping/data/all_data.csv')\n",
    "data.head()"
   ]
  },
  {
   "cell_type": "code",
   "execution_count": 258,
   "metadata": {},
   "outputs": [
    {
     "data": {
      "text/plain": [
       "(134049, 19)"
      ]
     },
     "execution_count": 258,
     "metadata": {},
     "output_type": "execute_result"
    }
   ],
   "source": [
    "data.shape"
   ]
  },
  {
   "attachments": {},
   "cell_type": "markdown",
   "metadata": {},
   "source": [
    "This dataset comprises a vast collection of 134 049 observations specifically centered around cars. With 18 informative columns, it offers a diverse range of details pertaining to each vehicle. These encompass essential information such as the brand, model, production year, mileage, and fuel type. "
   ]
  },
  {
   "attachments": {},
   "cell_type": "markdown",
   "metadata": {},
   "source": [
    "## **Missing values**\n"
   ]
  },
  {
   "cell_type": "code",
   "execution_count": 259,
   "metadata": {},
   "outputs": [
    {
     "data": {
      "text/html": [
       "<div>\n",
       "<style scoped>\n",
       "    .dataframe tbody tr th:only-of-type {\n",
       "        vertical-align: middle;\n",
       "    }\n",
       "\n",
       "    .dataframe tbody tr th {\n",
       "        vertical-align: top;\n",
       "    }\n",
       "\n",
       "    .dataframe thead th {\n",
       "        text-align: right;\n",
       "    }\n",
       "</style>\n",
       "<table border=\"1\" class=\"dataframe\">\n",
       "  <thead>\n",
       "    <tr style=\"text-align: right;\">\n",
       "      <th></th>\n",
       "      <th>na_count</th>\n",
       "      <th>na_precentage</th>\n",
       "    </tr>\n",
       "  </thead>\n",
       "  <tbody>\n",
       "    <tr>\n",
       "      <th>serviced_at_ASO</th>\n",
       "      <td>73515</td>\n",
       "      <td>54.84</td>\n",
       "    </tr>\n",
       "    <tr>\n",
       "      <th>accident_free</th>\n",
       "      <td>58603</td>\n",
       "      <td>43.72</td>\n",
       "    </tr>\n",
       "    <tr>\n",
       "      <th>city_fuel_consumption</th>\n",
       "      <td>54864</td>\n",
       "      <td>40.93</td>\n",
       "    </tr>\n",
       "    <tr>\n",
       "      <th>origin_country</th>\n",
       "      <td>45699</td>\n",
       "      <td>34.09</td>\n",
       "    </tr>\n",
       "    <tr>\n",
       "      <th>drive</th>\n",
       "      <td>17584</td>\n",
       "      <td>13.12</td>\n",
       "    </tr>\n",
       "    <tr>\n",
       "      <th>seats</th>\n",
       "      <td>8407</td>\n",
       "      <td>6.27</td>\n",
       "    </tr>\n",
       "    <tr>\n",
       "      <th>engine_capacity</th>\n",
       "      <td>2441</td>\n",
       "      <td>1.82</td>\n",
       "    </tr>\n",
       "    <tr>\n",
       "      <th>mileage</th>\n",
       "      <td>1093</td>\n",
       "      <td>0.82</td>\n",
       "    </tr>\n",
       "    <tr>\n",
       "      <th>doors</th>\n",
       "      <td>735</td>\n",
       "      <td>0.55</td>\n",
       "    </tr>\n",
       "    <tr>\n",
       "      <th>power</th>\n",
       "      <td>83</td>\n",
       "      <td>0.06</td>\n",
       "    </tr>\n",
       "    <tr>\n",
       "      <th>gearbox</th>\n",
       "      <td>62</td>\n",
       "      <td>0.05</td>\n",
       "    </tr>\n",
       "    <tr>\n",
       "      <th>color</th>\n",
       "      <td>1</td>\n",
       "      <td>0.00</td>\n",
       "    </tr>\n",
       "    <tr>\n",
       "      <th>condition</th>\n",
       "      <td>0</td>\n",
       "      <td>0.00</td>\n",
       "    </tr>\n",
       "    <tr>\n",
       "      <th>brand</th>\n",
       "      <td>1</td>\n",
       "      <td>0.00</td>\n",
       "    </tr>\n",
       "    <tr>\n",
       "      <th>body</th>\n",
       "      <td>1</td>\n",
       "      <td>0.00</td>\n",
       "    </tr>\n",
       "    <tr>\n",
       "      <th>model</th>\n",
       "      <td>1</td>\n",
       "      <td>0.00</td>\n",
       "    </tr>\n",
       "    <tr>\n",
       "      <th>fuel</th>\n",
       "      <td>1</td>\n",
       "      <td>0.00</td>\n",
       "    </tr>\n",
       "    <tr>\n",
       "      <th>year</th>\n",
       "      <td>1</td>\n",
       "      <td>0.00</td>\n",
       "    </tr>\n",
       "    <tr>\n",
       "      <th>price</th>\n",
       "      <td>0</td>\n",
       "      <td>0.00</td>\n",
       "    </tr>\n",
       "  </tbody>\n",
       "</table>\n",
       "</div>"
      ],
      "text/plain": [
       "                       na_count  na_precentage\n",
       "serviced_at_ASO           73515          54.84\n",
       "accident_free             58603          43.72\n",
       "city_fuel_consumption     54864          40.93\n",
       "origin_country            45699          34.09\n",
       "drive                     17584          13.12\n",
       "seats                      8407           6.27\n",
       "engine_capacity            2441           1.82\n",
       "mileage                    1093           0.82\n",
       "doors                       735           0.55\n",
       "power                        83           0.06\n",
       "gearbox                      62           0.05\n",
       "color                         1           0.00\n",
       "condition                     0           0.00\n",
       "brand                         1           0.00\n",
       "body                          1           0.00\n",
       "model                         1           0.00\n",
       "fuel                          1           0.00\n",
       "year                          1           0.00\n",
       "price                         0           0.00"
      ]
     },
     "execution_count": 259,
     "metadata": {},
     "output_type": "execute_result"
    }
   ],
   "source": [
    "# How many missing values are there in each column\n",
    "na_count = data.isna().sum()\n",
    "na_precentage = (na_count / data.shape[0] * 100).round(2)\n",
    "\n",
    "na_df = pd.DataFrame({'na_count': na_count, 'na_precentage': na_precentage})\n",
    "na_df.sort_values(by='na_precentage', ascending=False)"
   ]
  },
  {
   "attachments": {},
   "cell_type": "markdown",
   "metadata": {},
   "source": [
    "In this dataset, a notable observation is that the majority of columns contain missing values. However, an encouraging aspect is that the columns with missing values appear to be of lesser significance (such as whether the car was serviced at ASO, its accident-free status, and city fuel consumption). On the other hand, the essential data elements, including price, model, brand, and production year, exhibit minimal or no missing values at all. This characteristic suggests that the crucial information crucial for analysis is largely intact, allowing for comprehensive examination and insights into the dataset."
   ]
  },
  {
   "cell_type": "code",
   "execution_count": 260,
   "metadata": {},
   "outputs": [
    {
     "data": {
      "text/html": [
       "<div>\n",
       "<style scoped>\n",
       "    .dataframe tbody tr th:only-of-type {\n",
       "        vertical-align: middle;\n",
       "    }\n",
       "\n",
       "    .dataframe tbody tr th {\n",
       "        vertical-align: top;\n",
       "    }\n",
       "\n",
       "    .dataframe thead th {\n",
       "        text-align: right;\n",
       "    }\n",
       "</style>\n",
       "<table border=\"1\" class=\"dataframe\">\n",
       "  <thead>\n",
       "    <tr style=\"text-align: right;\">\n",
       "      <th></th>\n",
       "      <th>brand</th>\n",
       "      <th>model</th>\n",
       "      <th>year</th>\n",
       "      <th>mileage</th>\n",
       "      <th>engine_capacity</th>\n",
       "      <th>fuel</th>\n",
       "      <th>power</th>\n",
       "      <th>gearbox</th>\n",
       "      <th>drive</th>\n",
       "      <th>city_fuel_consumption</th>\n",
       "      <th>body</th>\n",
       "      <th>doors</th>\n",
       "      <th>seats</th>\n",
       "      <th>color</th>\n",
       "      <th>origin_country</th>\n",
       "      <th>accident_free</th>\n",
       "      <th>serviced_at_ASO</th>\n",
       "      <th>condition</th>\n",
       "      <th>price</th>\n",
       "    </tr>\n",
       "  </thead>\n",
       "  <tbody>\n",
       "    <tr>\n",
       "      <th>66873</th>\n",
       "      <td>NaN</td>\n",
       "      <td>NaN</td>\n",
       "      <td>NaN</td>\n",
       "      <td>NaN</td>\n",
       "      <td>NaN</td>\n",
       "      <td>NaN</td>\n",
       "      <td>NaN</td>\n",
       "      <td>NaN</td>\n",
       "      <td>NaN</td>\n",
       "      <td>NaN</td>\n",
       "      <td>NaN</td>\n",
       "      <td>NaN</td>\n",
       "      <td>NaN</td>\n",
       "      <td>NaN</td>\n",
       "      <td>NaN</td>\n",
       "      <td>NaN</td>\n",
       "      <td>NaN</td>\n",
       "      <td>Używane</td>\n",
       "      <td>55 900        PLN</td>\n",
       "    </tr>\n",
       "  </tbody>\n",
       "</table>\n",
       "</div>"
      ],
      "text/plain": [
       "      brand model  year mileage engine_capacity fuel power gearbox drive  \\\n",
       "66873   NaN   NaN   NaN     NaN             NaN  NaN   NaN     NaN   NaN   \n",
       "\n",
       "      city_fuel_consumption body  doors  seats color origin_country  \\\n",
       "66873                   NaN  NaN    NaN    NaN   NaN            NaN   \n",
       "\n",
       "      accident_free serviced_at_ASO condition              price  \n",
       "66873           NaN             NaN   Używane  55 900        PLN  "
      ]
     },
     "execution_count": 260,
     "metadata": {},
     "output_type": "execute_result"
    }
   ],
   "source": [
    "# There is one row with majority of values missing, so I filtered it out. It may be caused by some error during scraping\n",
    "data[data['brand'].isna()]"
   ]
  },
  {
   "cell_type": "code",
   "execution_count": 261,
   "metadata": {},
   "outputs": [],
   "source": [
    "data = data[data['brand'].notna()]"
   ]
  },
  {
   "attachments": {},
   "cell_type": "markdown",
   "metadata": {},
   "source": [
    "## **Data types**"
   ]
  },
  {
   "cell_type": "code",
   "execution_count": 262,
   "metadata": {},
   "outputs": [
    {
     "data": {
      "text/html": [
       "<div>\n",
       "<style scoped>\n",
       "    .dataframe tbody tr th:only-of-type {\n",
       "        vertical-align: middle;\n",
       "    }\n",
       "\n",
       "    .dataframe tbody tr th {\n",
       "        vertical-align: top;\n",
       "    }\n",
       "\n",
       "    .dataframe thead th {\n",
       "        text-align: right;\n",
       "    }\n",
       "</style>\n",
       "<table border=\"1\" class=\"dataframe\">\n",
       "  <thead>\n",
       "    <tr style=\"text-align: right;\">\n",
       "      <th></th>\n",
       "      <th>brand</th>\n",
       "      <th>model</th>\n",
       "      <th>year</th>\n",
       "      <th>mileage</th>\n",
       "      <th>engine_capacity</th>\n",
       "      <th>fuel</th>\n",
       "      <th>power</th>\n",
       "      <th>gearbox</th>\n",
       "      <th>drive</th>\n",
       "      <th>city_fuel_consumption</th>\n",
       "      <th>body</th>\n",
       "      <th>doors</th>\n",
       "      <th>seats</th>\n",
       "      <th>color</th>\n",
       "      <th>origin_country</th>\n",
       "      <th>accident_free</th>\n",
       "      <th>serviced_at_ASO</th>\n",
       "      <th>condition</th>\n",
       "      <th>price</th>\n",
       "    </tr>\n",
       "  </thead>\n",
       "  <tbody>\n",
       "    <tr>\n",
       "      <th>0</th>\n",
       "      <td>Audi</td>\n",
       "      <td>SQ7</td>\n",
       "      <td>2017.0</td>\n",
       "      <td>142 800 km</td>\n",
       "      <td>3 956 cm3</td>\n",
       "      <td>Diesel</td>\n",
       "      <td>435 KM</td>\n",
       "      <td>Automatyczna</td>\n",
       "      <td>4x4 (stały)</td>\n",
       "      <td>8 l/100km</td>\n",
       "      <td>SUV</td>\n",
       "      <td>5.0</td>\n",
       "      <td>7.0</td>\n",
       "      <td>Szary</td>\n",
       "      <td>Polska</td>\n",
       "      <td>Tak</td>\n",
       "      <td>Tak</td>\n",
       "      <td>Używane</td>\n",
       "      <td>269 000        PLN</td>\n",
       "    </tr>\n",
       "    <tr>\n",
       "      <th>1</th>\n",
       "      <td>Audi</td>\n",
       "      <td>A3</td>\n",
       "      <td>2010.0</td>\n",
       "      <td>236 000 km</td>\n",
       "      <td>1 395 cm3</td>\n",
       "      <td>Benzyna</td>\n",
       "      <td>125 KM</td>\n",
       "      <td>Manualna</td>\n",
       "      <td>Na przednie koła</td>\n",
       "      <td>NaN</td>\n",
       "      <td>Kompakt</td>\n",
       "      <td>5.0</td>\n",
       "      <td>5.0</td>\n",
       "      <td>Czarny</td>\n",
       "      <td>NaN</td>\n",
       "      <td>Tak</td>\n",
       "      <td>Tak</td>\n",
       "      <td>Używane</td>\n",
       "      <td>29 900        PLN</td>\n",
       "    </tr>\n",
       "    <tr>\n",
       "      <th>2</th>\n",
       "      <td>Audi</td>\n",
       "      <td>A4</td>\n",
       "      <td>2018.0</td>\n",
       "      <td>84 500 km</td>\n",
       "      <td>1 968 cm3</td>\n",
       "      <td>Diesel</td>\n",
       "      <td>190 KM</td>\n",
       "      <td>Automatyczna</td>\n",
       "      <td>4x4 (stały)</td>\n",
       "      <td>5 l/100km</td>\n",
       "      <td>Kombi</td>\n",
       "      <td>5.0</td>\n",
       "      <td>5.0</td>\n",
       "      <td>Szary</td>\n",
       "      <td>NaN</td>\n",
       "      <td>NaN</td>\n",
       "      <td>NaN</td>\n",
       "      <td>Używane</td>\n",
       "      <td>60 000        PLN</td>\n",
       "    </tr>\n",
       "    <tr>\n",
       "      <th>3</th>\n",
       "      <td>Audi</td>\n",
       "      <td>Q5</td>\n",
       "      <td>2018.0</td>\n",
       "      <td>38 000 km</td>\n",
       "      <td>1 984 cm3</td>\n",
       "      <td>Benzyna</td>\n",
       "      <td>252 KM</td>\n",
       "      <td>Automatyczna</td>\n",
       "      <td>4x4 (stały)</td>\n",
       "      <td>8 l/100km</td>\n",
       "      <td>SUV</td>\n",
       "      <td>5.0</td>\n",
       "      <td>5.0</td>\n",
       "      <td>Szary</td>\n",
       "      <td>NaN</td>\n",
       "      <td>NaN</td>\n",
       "      <td>NaN</td>\n",
       "      <td>Używane</td>\n",
       "      <td>75 000        PLN</td>\n",
       "    </tr>\n",
       "    <tr>\n",
       "      <th>4</th>\n",
       "      <td>Audi</td>\n",
       "      <td>A7</td>\n",
       "      <td>2016.0</td>\n",
       "      <td>74 885 km</td>\n",
       "      <td>2 995 cm3</td>\n",
       "      <td>Benzyna</td>\n",
       "      <td>333 KM</td>\n",
       "      <td>Automatyczna</td>\n",
       "      <td>4x4 (stały)</td>\n",
       "      <td>10 l/100km</td>\n",
       "      <td>Kompakt</td>\n",
       "      <td>5.0</td>\n",
       "      <td>5.0</td>\n",
       "      <td>Biały</td>\n",
       "      <td>NaN</td>\n",
       "      <td>NaN</td>\n",
       "      <td>NaN</td>\n",
       "      <td>Używane</td>\n",
       "      <td>75 000        PLN</td>\n",
       "    </tr>\n",
       "  </tbody>\n",
       "</table>\n",
       "</div>"
      ],
      "text/plain": [
       "  brand model    year     mileage engine_capacity     fuel   power  \\\n",
       "0  Audi   SQ7  2017.0  142 800 km       3 956 cm3   Diesel  435 KM   \n",
       "1  Audi    A3  2010.0  236 000 km       1 395 cm3  Benzyna  125 KM   \n",
       "2  Audi    A4  2018.0   84 500 km       1 968 cm3   Diesel  190 KM   \n",
       "3  Audi    Q5  2018.0   38 000 km       1 984 cm3  Benzyna  252 KM   \n",
       "4  Audi    A7  2016.0   74 885 km       2 995 cm3  Benzyna  333 KM   \n",
       "\n",
       "        gearbox             drive city_fuel_consumption     body  doors  \\\n",
       "0  Automatyczna       4x4 (stały)             8 l/100km      SUV    5.0   \n",
       "1      Manualna  Na przednie koła                   NaN  Kompakt    5.0   \n",
       "2  Automatyczna       4x4 (stały)             5 l/100km    Kombi    5.0   \n",
       "3  Automatyczna       4x4 (stały)             8 l/100km      SUV    5.0   \n",
       "4  Automatyczna       4x4 (stały)            10 l/100km  Kompakt    5.0   \n",
       "\n",
       "   seats   color origin_country accident_free serviced_at_ASO condition  \\\n",
       "0    7.0   Szary         Polska           Tak             Tak   Używane   \n",
       "1    5.0  Czarny            NaN           Tak             Tak   Używane   \n",
       "2    5.0   Szary            NaN           NaN             NaN   Używane   \n",
       "3    5.0   Szary            NaN           NaN             NaN   Używane   \n",
       "4    5.0   Biały            NaN           NaN             NaN   Używane   \n",
       "\n",
       "                price  \n",
       "0  269 000        PLN  \n",
       "1   29 900        PLN  \n",
       "2   60 000        PLN  \n",
       "3   75 000        PLN  \n",
       "4   75 000        PLN  "
      ]
     },
     "execution_count": 262,
     "metadata": {},
     "output_type": "execute_result"
    }
   ],
   "source": [
    "data.head()"
   ]
  },
  {
   "cell_type": "code",
   "execution_count": 263,
   "metadata": {},
   "outputs": [
    {
     "data": {
      "text/plain": [
       "brand                     object\n",
       "model                     object\n",
       "year                     float64\n",
       "mileage                   object\n",
       "engine_capacity           object\n",
       "fuel                      object\n",
       "power                     object\n",
       "gearbox                   object\n",
       "drive                     object\n",
       "city_fuel_consumption     object\n",
       "body                      object\n",
       "doors                    float64\n",
       "seats                    float64\n",
       "color                     object\n",
       "origin_country            object\n",
       "accident_free             object\n",
       "serviced_at_ASO           object\n",
       "condition                 object\n",
       "price                     object\n",
       "dtype: object"
      ]
     },
     "execution_count": 263,
     "metadata": {},
     "output_type": "execute_result"
    }
   ],
   "source": [
    "data.dtypes"
   ]
  },
  {
   "attachments": {},
   "cell_type": "markdown",
   "metadata": {},
   "source": [
    "The dataset contains a few data type errors that need to be addressed.  \n",
    "Because there are missing values in the dataset I convert all numeric columns to float.\n",
    "* **mileage** should be `float`\n",
    "* **engine_capacity** should be `float`\n",
    "* **power** should be `float`\n",
    "* **city_fuel_consumption** should be `float`\n",
    "* **price** should be `float`"
   ]
  },
  {
   "attachments": {},
   "cell_type": "markdown",
   "metadata": {},
   "source": [
    "### **mileage** "
   ]
  },
  {
   "cell_type": "code",
   "execution_count": 264,
   "metadata": {},
   "outputs": [
    {
     "data": {
      "text/plain": [
       "0    142 800 km\n",
       "1    236 000 km\n",
       "2     84 500 km\n",
       "3     38 000 km\n",
       "4     74 885 km\n",
       "Name: mileage, dtype: object"
      ]
     },
     "execution_count": 264,
     "metadata": {},
     "output_type": "execute_result"
    }
   ],
   "source": [
    "data['mileage'].head()"
   ]
  },
  {
   "cell_type": "code",
   "execution_count": 265,
   "metadata": {},
   "outputs": [
    {
     "data": {
      "text/plain": [
       "0    142800.0\n",
       "1    236000.0\n",
       "2     84500.0\n",
       "3     38000.0\n",
       "4     74885.0\n",
       "Name: mileage, dtype: float64"
      ]
     },
     "execution_count": 265,
     "metadata": {},
     "output_type": "execute_result"
    }
   ],
   "source": [
    "data['mileage'] = utlis.rm_units_and_conv_dtype(data['mileage'], 'km', 'float')\n",
    "\n",
    "data['mileage'].head()"
   ]
  },
  {
   "attachments": {},
   "cell_type": "markdown",
   "metadata": {},
   "source": [
    "### **engine_capacity** "
   ]
  },
  {
   "cell_type": "code",
   "execution_count": 266,
   "metadata": {},
   "outputs": [
    {
     "data": {
      "text/plain": [
       "0    3 956 cm3\n",
       "1    1 395 cm3\n",
       "2    1 968 cm3\n",
       "3    1 984 cm3\n",
       "4    2 995 cm3\n",
       "Name: engine_capacity, dtype: object"
      ]
     },
     "execution_count": 266,
     "metadata": {},
     "output_type": "execute_result"
    }
   ],
   "source": [
    "data['engine_capacity'].head()"
   ]
  },
  {
   "cell_type": "code",
   "execution_count": 267,
   "metadata": {},
   "outputs": [
    {
     "data": {
      "text/plain": [
       "0    3956.0\n",
       "1    1395.0\n",
       "2    1968.0\n",
       "3    1984.0\n",
       "4    2995.0\n",
       "Name: engine_capacity, dtype: float64"
      ]
     },
     "execution_count": 267,
     "metadata": {},
     "output_type": "execute_result"
    }
   ],
   "source": [
    "data['engine_capacity'] = utlis.rm_units_and_conv_dtype(data['engine_capacity'], 'cm3', 'float')\n",
    "\n",
    "data['engine_capacity'].head()"
   ]
  },
  {
   "attachments": {},
   "cell_type": "markdown",
   "metadata": {},
   "source": [
    "### **power** "
   ]
  },
  {
   "cell_type": "code",
   "execution_count": 268,
   "metadata": {},
   "outputs": [
    {
     "data": {
      "text/plain": [
       "0    435 KM\n",
       "1    125 KM\n",
       "2    190 KM\n",
       "3    252 KM\n",
       "4    333 KM\n",
       "Name: power, dtype: object"
      ]
     },
     "execution_count": 268,
     "metadata": {},
     "output_type": "execute_result"
    }
   ],
   "source": [
    "data['power'].head()"
   ]
  },
  {
   "cell_type": "code",
   "execution_count": 269,
   "metadata": {},
   "outputs": [
    {
     "data": {
      "text/plain": [
       "0    435.0\n",
       "1    125.0\n",
       "2    190.0\n",
       "3    252.0\n",
       "4    333.0\n",
       "Name: power, dtype: float64"
      ]
     },
     "execution_count": 269,
     "metadata": {},
     "output_type": "execute_result"
    }
   ],
   "source": [
    "data['power'] = utlis.rm_units_and_conv_dtype(data['power'], 'KM', 'float')\n",
    "\n",
    "data['power'].head()"
   ]
  },
  {
   "attachments": {},
   "cell_type": "markdown",
   "metadata": {},
   "source": [
    "### **city_fuel_consumption** "
   ]
  },
  {
   "cell_type": "code",
   "execution_count": 270,
   "metadata": {},
   "outputs": [
    {
     "data": {
      "text/plain": [
       "0     8 l/100km\n",
       "1           NaN\n",
       "2     5 l/100km\n",
       "3     8 l/100km\n",
       "4    10 l/100km\n",
       "Name: city_fuel_consumption, dtype: object"
      ]
     },
     "execution_count": 270,
     "metadata": {},
     "output_type": "execute_result"
    }
   ],
   "source": [
    "data['city_fuel_consumption'].head()"
   ]
  },
  {
   "cell_type": "code",
   "execution_count": 271,
   "metadata": {},
   "outputs": [
    {
     "data": {
      "text/plain": [
       "0     8.0\n",
       "1     NaN\n",
       "2     5.0\n",
       "3     8.0\n",
       "4    10.0\n",
       "Name: city_fuel_consumption, dtype: float64"
      ]
     },
     "execution_count": 271,
     "metadata": {},
     "output_type": "execute_result"
    }
   ],
   "source": [
    "data['city_fuel_consumption'] = utlis.rm_units_and_conv_dtype(data['city_fuel_consumption'], 'l/100km', 'float')\n",
    "\n",
    "data['city_fuel_consumption'].head()"
   ]
  },
  {
   "attachments": {},
   "cell_type": "markdown",
   "metadata": {},
   "source": [
    "### **price** "
   ]
  },
  {
   "cell_type": "code",
   "execution_count": 272,
   "metadata": {},
   "outputs": [
    {
     "data": {
      "text/plain": [
       "0    269 000        PLN\n",
       "1     29 900        PLN\n",
       "2     60 000        PLN\n",
       "3     75 000        PLN\n",
       "4     75 000        PLN\n",
       "Name: price, dtype: object"
      ]
     },
     "execution_count": 272,
     "metadata": {},
     "output_type": "execute_result"
    }
   ],
   "source": [
    "data['price'].head()"
   ]
  },
  {
   "cell_type": "code",
   "execution_count": 273,
   "metadata": {},
   "outputs": [
    {
     "data": {
      "text/html": [
       "<div>\n",
       "<style scoped>\n",
       "    .dataframe tbody tr th:only-of-type {\n",
       "        vertical-align: middle;\n",
       "    }\n",
       "\n",
       "    .dataframe tbody tr th {\n",
       "        vertical-align: top;\n",
       "    }\n",
       "\n",
       "    .dataframe thead th {\n",
       "        text-align: right;\n",
       "    }\n",
       "</style>\n",
       "<table border=\"1\" class=\"dataframe\">\n",
       "  <thead>\n",
       "    <tr style=\"text-align: right;\">\n",
       "      <th></th>\n",
       "      <th>brand</th>\n",
       "      <th>model</th>\n",
       "      <th>year</th>\n",
       "      <th>mileage</th>\n",
       "      <th>engine_capacity</th>\n",
       "      <th>fuel</th>\n",
       "      <th>power</th>\n",
       "      <th>gearbox</th>\n",
       "      <th>drive</th>\n",
       "      <th>city_fuel_consumption</th>\n",
       "      <th>...</th>\n",
       "      <th>doors</th>\n",
       "      <th>seats</th>\n",
       "      <th>color</th>\n",
       "      <th>origin_country</th>\n",
       "      <th>accident_free</th>\n",
       "      <th>serviced_at_ASO</th>\n",
       "      <th>condition</th>\n",
       "      <th>price</th>\n",
       "      <th>value</th>\n",
       "      <th>currency</th>\n",
       "    </tr>\n",
       "  </thead>\n",
       "  <tbody>\n",
       "    <tr>\n",
       "      <th>0</th>\n",
       "      <td>Audi</td>\n",
       "      <td>SQ7</td>\n",
       "      <td>2017.0</td>\n",
       "      <td>142800.0</td>\n",
       "      <td>3956.0</td>\n",
       "      <td>Diesel</td>\n",
       "      <td>435.0</td>\n",
       "      <td>Automatyczna</td>\n",
       "      <td>4x4 (stały)</td>\n",
       "      <td>8.0</td>\n",
       "      <td>...</td>\n",
       "      <td>5.0</td>\n",
       "      <td>7.0</td>\n",
       "      <td>Szary</td>\n",
       "      <td>Polska</td>\n",
       "      <td>Tak</td>\n",
       "      <td>Tak</td>\n",
       "      <td>Używane</td>\n",
       "      <td>269 000        PLN</td>\n",
       "      <td>269000.0</td>\n",
       "      <td>PLN</td>\n",
       "    </tr>\n",
       "    <tr>\n",
       "      <th>1</th>\n",
       "      <td>Audi</td>\n",
       "      <td>A3</td>\n",
       "      <td>2010.0</td>\n",
       "      <td>236000.0</td>\n",
       "      <td>1395.0</td>\n",
       "      <td>Benzyna</td>\n",
       "      <td>125.0</td>\n",
       "      <td>Manualna</td>\n",
       "      <td>Na przednie koła</td>\n",
       "      <td>NaN</td>\n",
       "      <td>...</td>\n",
       "      <td>5.0</td>\n",
       "      <td>5.0</td>\n",
       "      <td>Czarny</td>\n",
       "      <td>NaN</td>\n",
       "      <td>Tak</td>\n",
       "      <td>Tak</td>\n",
       "      <td>Używane</td>\n",
       "      <td>29 900        PLN</td>\n",
       "      <td>29900.0</td>\n",
       "      <td>PLN</td>\n",
       "    </tr>\n",
       "    <tr>\n",
       "      <th>2</th>\n",
       "      <td>Audi</td>\n",
       "      <td>A4</td>\n",
       "      <td>2018.0</td>\n",
       "      <td>84500.0</td>\n",
       "      <td>1968.0</td>\n",
       "      <td>Diesel</td>\n",
       "      <td>190.0</td>\n",
       "      <td>Automatyczna</td>\n",
       "      <td>4x4 (stały)</td>\n",
       "      <td>5.0</td>\n",
       "      <td>...</td>\n",
       "      <td>5.0</td>\n",
       "      <td>5.0</td>\n",
       "      <td>Szary</td>\n",
       "      <td>NaN</td>\n",
       "      <td>NaN</td>\n",
       "      <td>NaN</td>\n",
       "      <td>Używane</td>\n",
       "      <td>60 000        PLN</td>\n",
       "      <td>60000.0</td>\n",
       "      <td>PLN</td>\n",
       "    </tr>\n",
       "    <tr>\n",
       "      <th>3</th>\n",
       "      <td>Audi</td>\n",
       "      <td>Q5</td>\n",
       "      <td>2018.0</td>\n",
       "      <td>38000.0</td>\n",
       "      <td>1984.0</td>\n",
       "      <td>Benzyna</td>\n",
       "      <td>252.0</td>\n",
       "      <td>Automatyczna</td>\n",
       "      <td>4x4 (stały)</td>\n",
       "      <td>8.0</td>\n",
       "      <td>...</td>\n",
       "      <td>5.0</td>\n",
       "      <td>5.0</td>\n",
       "      <td>Szary</td>\n",
       "      <td>NaN</td>\n",
       "      <td>NaN</td>\n",
       "      <td>NaN</td>\n",
       "      <td>Używane</td>\n",
       "      <td>75 000        PLN</td>\n",
       "      <td>75000.0</td>\n",
       "      <td>PLN</td>\n",
       "    </tr>\n",
       "    <tr>\n",
       "      <th>4</th>\n",
       "      <td>Audi</td>\n",
       "      <td>A7</td>\n",
       "      <td>2016.0</td>\n",
       "      <td>74885.0</td>\n",
       "      <td>2995.0</td>\n",
       "      <td>Benzyna</td>\n",
       "      <td>333.0</td>\n",
       "      <td>Automatyczna</td>\n",
       "      <td>4x4 (stały)</td>\n",
       "      <td>10.0</td>\n",
       "      <td>...</td>\n",
       "      <td>5.0</td>\n",
       "      <td>5.0</td>\n",
       "      <td>Biały</td>\n",
       "      <td>NaN</td>\n",
       "      <td>NaN</td>\n",
       "      <td>NaN</td>\n",
       "      <td>Używane</td>\n",
       "      <td>75 000        PLN</td>\n",
       "      <td>75000.0</td>\n",
       "      <td>PLN</td>\n",
       "    </tr>\n",
       "  </tbody>\n",
       "</table>\n",
       "<p>5 rows × 21 columns</p>\n",
       "</div>"
      ],
      "text/plain": [
       "  brand model    year   mileage  engine_capacity     fuel  power  \\\n",
       "0  Audi   SQ7  2017.0  142800.0           3956.0   Diesel  435.0   \n",
       "1  Audi    A3  2010.0  236000.0           1395.0  Benzyna  125.0   \n",
       "2  Audi    A4  2018.0   84500.0           1968.0   Diesel  190.0   \n",
       "3  Audi    Q5  2018.0   38000.0           1984.0  Benzyna  252.0   \n",
       "4  Audi    A7  2016.0   74885.0           2995.0  Benzyna  333.0   \n",
       "\n",
       "        gearbox             drive  city_fuel_consumption  ... doors  seats  \\\n",
       "0  Automatyczna       4x4 (stały)                    8.0  ...   5.0    7.0   \n",
       "1      Manualna  Na przednie koła                    NaN  ...   5.0    5.0   \n",
       "2  Automatyczna       4x4 (stały)                    5.0  ...   5.0    5.0   \n",
       "3  Automatyczna       4x4 (stały)                    8.0  ...   5.0    5.0   \n",
       "4  Automatyczna       4x4 (stały)                   10.0  ...   5.0    5.0   \n",
       "\n",
       "    color origin_country accident_free serviced_at_ASO condition  \\\n",
       "0   Szary         Polska           Tak             Tak   Używane   \n",
       "1  Czarny            NaN           Tak             Tak   Używane   \n",
       "2   Szary            NaN           NaN             NaN   Używane   \n",
       "3   Szary            NaN           NaN             NaN   Używane   \n",
       "4   Biały            NaN           NaN             NaN   Używane   \n",
       "\n",
       "                price     value  currency  \n",
       "0  269 000        PLN  269000.0       PLN  \n",
       "1   29 900        PLN   29900.0       PLN  \n",
       "2   60 000        PLN   60000.0       PLN  \n",
       "3   75 000        PLN   75000.0       PLN  \n",
       "4   75 000        PLN   75000.0       PLN  \n",
       "\n",
       "[5 rows x 21 columns]"
      ]
     },
     "execution_count": 273,
     "metadata": {},
     "output_type": "execute_result"
    }
   ],
   "source": [
    "# There are some prices with \"PLN\" and some with \"EUR\", so for this column different approach is needed\n",
    "\n",
    "# Extracting the value and currency from the price column\n",
    "data['value'] = data['price'].map(lambda x: float(''.join(x.split()[:-1]).replace(',', '.')))\n",
    "data['currency'] = data['price'].map(lambda x: x.split()[-1])\n",
    "\n",
    "data.head()"
   ]
  },
  {
   "cell_type": "code",
   "execution_count": 274,
   "metadata": {},
   "outputs": [
    {
     "name": "stdout",
     "output_type": "stream",
     "text": [
      "There are 224 rows with EUR currency.\n"
     ]
    },
    {
     "data": {
      "text/html": [
       "<div>\n",
       "<style scoped>\n",
       "    .dataframe tbody tr th:only-of-type {\n",
       "        vertical-align: middle;\n",
       "    }\n",
       "\n",
       "    .dataframe tbody tr th {\n",
       "        vertical-align: top;\n",
       "    }\n",
       "\n",
       "    .dataframe thead th {\n",
       "        text-align: right;\n",
       "    }\n",
       "</style>\n",
       "<table border=\"1\" class=\"dataframe\">\n",
       "  <thead>\n",
       "    <tr style=\"text-align: right;\">\n",
       "      <th></th>\n",
       "      <th>brand</th>\n",
       "      <th>model</th>\n",
       "      <th>year</th>\n",
       "      <th>mileage</th>\n",
       "      <th>engine_capacity</th>\n",
       "      <th>fuel</th>\n",
       "      <th>power</th>\n",
       "      <th>gearbox</th>\n",
       "      <th>drive</th>\n",
       "      <th>city_fuel_consumption</th>\n",
       "      <th>...</th>\n",
       "      <th>doors</th>\n",
       "      <th>seats</th>\n",
       "      <th>color</th>\n",
       "      <th>origin_country</th>\n",
       "      <th>accident_free</th>\n",
       "      <th>serviced_at_ASO</th>\n",
       "      <th>condition</th>\n",
       "      <th>price</th>\n",
       "      <th>value</th>\n",
       "      <th>currency</th>\n",
       "    </tr>\n",
       "  </thead>\n",
       "  <tbody>\n",
       "    <tr>\n",
       "      <th>1416</th>\n",
       "      <td>Audi</td>\n",
       "      <td>RS e-tron GT</td>\n",
       "      <td>2023.0</td>\n",
       "      <td>10.0</td>\n",
       "      <td>NaN</td>\n",
       "      <td>Elektryczny</td>\n",
       "      <td>598.0</td>\n",
       "      <td>Automatyczna</td>\n",
       "      <td>4x4 (stały)</td>\n",
       "      <td>NaN</td>\n",
       "      <td>...</td>\n",
       "      <td>4.0</td>\n",
       "      <td>NaN</td>\n",
       "      <td>Czarny</td>\n",
       "      <td>NaN</td>\n",
       "      <td>NaN</td>\n",
       "      <td>NaN</td>\n",
       "      <td>Używane</td>\n",
       "      <td>69 000        EUR</td>\n",
       "      <td>69000.0</td>\n",
       "      <td>EUR</td>\n",
       "    </tr>\n",
       "    <tr>\n",
       "      <th>1431</th>\n",
       "      <td>Audi</td>\n",
       "      <td>RS e-tron GT</td>\n",
       "      <td>2023.0</td>\n",
       "      <td>15.0</td>\n",
       "      <td>NaN</td>\n",
       "      <td>Elektryczny</td>\n",
       "      <td>598.0</td>\n",
       "      <td>Automatyczna</td>\n",
       "      <td>4x4 (stały)</td>\n",
       "      <td>NaN</td>\n",
       "      <td>...</td>\n",
       "      <td>4.0</td>\n",
       "      <td>NaN</td>\n",
       "      <td>Zielony</td>\n",
       "      <td>NaN</td>\n",
       "      <td>NaN</td>\n",
       "      <td>NaN</td>\n",
       "      <td>Używane</td>\n",
       "      <td>70 000        EUR</td>\n",
       "      <td>70000.0</td>\n",
       "      <td>EUR</td>\n",
       "    </tr>\n",
       "    <tr>\n",
       "      <th>3769</th>\n",
       "      <td>Audi</td>\n",
       "      <td>A8</td>\n",
       "      <td>2018.0</td>\n",
       "      <td>114699.0</td>\n",
       "      <td>2967.0</td>\n",
       "      <td>Diesel</td>\n",
       "      <td>286.0</td>\n",
       "      <td>Automatyczna</td>\n",
       "      <td>4x4 (stały)</td>\n",
       "      <td>8.0</td>\n",
       "      <td>...</td>\n",
       "      <td>4.0</td>\n",
       "      <td>5.0</td>\n",
       "      <td>Czarny</td>\n",
       "      <td>Niemcy</td>\n",
       "      <td>NaN</td>\n",
       "      <td>NaN</td>\n",
       "      <td>Używane</td>\n",
       "      <td>47 000        EUR</td>\n",
       "      <td>47000.0</td>\n",
       "      <td>EUR</td>\n",
       "    </tr>\n",
       "    <tr>\n",
       "      <th>6764</th>\n",
       "      <td>Audi</td>\n",
       "      <td>A4</td>\n",
       "      <td>2020.0</td>\n",
       "      <td>22000.0</td>\n",
       "      <td>1968.0</td>\n",
       "      <td>Diesel</td>\n",
       "      <td>190.0</td>\n",
       "      <td>Automatyczna</td>\n",
       "      <td>4x4 (stały)</td>\n",
       "      <td>5.0</td>\n",
       "      <td>...</td>\n",
       "      <td>5.0</td>\n",
       "      <td>5.0</td>\n",
       "      <td>Inny kolor</td>\n",
       "      <td>NaN</td>\n",
       "      <td>NaN</td>\n",
       "      <td>Tak</td>\n",
       "      <td>Używane</td>\n",
       "      <td>10 500        EUR</td>\n",
       "      <td>10500.0</td>\n",
       "      <td>EUR</td>\n",
       "    </tr>\n",
       "    <tr>\n",
       "      <th>6785</th>\n",
       "      <td>Audi</td>\n",
       "      <td>RS3</td>\n",
       "      <td>2022.0</td>\n",
       "      <td>6500.0</td>\n",
       "      <td>2480.0</td>\n",
       "      <td>Benzyna</td>\n",
       "      <td>400.0</td>\n",
       "      <td>Automatyczna</td>\n",
       "      <td>NaN</td>\n",
       "      <td>11.1</td>\n",
       "      <td>...</td>\n",
       "      <td>4.0</td>\n",
       "      <td>5.0</td>\n",
       "      <td>Szary</td>\n",
       "      <td>NaN</td>\n",
       "      <td>NaN</td>\n",
       "      <td>NaN</td>\n",
       "      <td>Używane</td>\n",
       "      <td>55 000        EUR</td>\n",
       "      <td>55000.0</td>\n",
       "      <td>EUR</td>\n",
       "    </tr>\n",
       "  </tbody>\n",
       "</table>\n",
       "<p>5 rows × 21 columns</p>\n",
       "</div>"
      ],
      "text/plain": [
       "     brand         model    year   mileage  engine_capacity         fuel  \\\n",
       "1416  Audi  RS e-tron GT  2023.0      10.0              NaN  Elektryczny   \n",
       "1431  Audi  RS e-tron GT  2023.0      15.0              NaN  Elektryczny   \n",
       "3769  Audi            A8  2018.0  114699.0           2967.0       Diesel   \n",
       "6764  Audi            A4  2020.0   22000.0           1968.0       Diesel   \n",
       "6785  Audi           RS3  2022.0    6500.0           2480.0      Benzyna   \n",
       "\n",
       "      power       gearbox        drive  city_fuel_consumption  ... doors  \\\n",
       "1416  598.0  Automatyczna  4x4 (stały)                    NaN  ...   4.0   \n",
       "1431  598.0  Automatyczna  4x4 (stały)                    NaN  ...   4.0   \n",
       "3769  286.0  Automatyczna  4x4 (stały)                    8.0  ...   4.0   \n",
       "6764  190.0  Automatyczna  4x4 (stały)                    5.0  ...   5.0   \n",
       "6785  400.0  Automatyczna          NaN                   11.1  ...   4.0   \n",
       "\n",
       "      seats       color origin_country accident_free serviced_at_ASO  \\\n",
       "1416    NaN      Czarny            NaN           NaN             NaN   \n",
       "1431    NaN     Zielony            NaN           NaN             NaN   \n",
       "3769    5.0      Czarny         Niemcy           NaN             NaN   \n",
       "6764    5.0  Inny kolor            NaN           NaN             Tak   \n",
       "6785    5.0       Szary            NaN           NaN             NaN   \n",
       "\n",
       "     condition              price    value  currency  \n",
       "1416   Używane  69 000        EUR  69000.0       EUR  \n",
       "1431   Używane  70 000        EUR  70000.0       EUR  \n",
       "3769   Używane  47 000        EUR  47000.0       EUR  \n",
       "6764   Używane  10 500        EUR  10500.0       EUR  \n",
       "6785   Używane  55 000        EUR  55000.0       EUR  \n",
       "\n",
       "[5 rows x 21 columns]"
      ]
     },
     "execution_count": 274,
     "metadata": {},
     "output_type": "execute_result"
    }
   ],
   "source": [
    "# Check the rows with EUR currency\n",
    "eur_price = data[data['currency'] == 'EUR']\n",
    "\n",
    "print(f'There are {len(eur_price)} rows with EUR currency.')\n",
    "eur_price.head()"
   ]
  },
  {
   "cell_type": "code",
   "execution_count": 275,
   "metadata": {},
   "outputs": [],
   "source": [
    "# Convert EUR to PLN\n",
    "data.loc[data['currency'] == 'EUR', 'value'] *= 4.45"
   ]
  },
  {
   "cell_type": "code",
   "execution_count": 276,
   "metadata": {},
   "outputs": [
    {
     "data": {
      "text/html": [
       "<div>\n",
       "<style scoped>\n",
       "    .dataframe tbody tr th:only-of-type {\n",
       "        vertical-align: middle;\n",
       "    }\n",
       "\n",
       "    .dataframe tbody tr th {\n",
       "        vertical-align: top;\n",
       "    }\n",
       "\n",
       "    .dataframe thead th {\n",
       "        text-align: right;\n",
       "    }\n",
       "</style>\n",
       "<table border=\"1\" class=\"dataframe\">\n",
       "  <thead>\n",
       "    <tr style=\"text-align: right;\">\n",
       "      <th></th>\n",
       "      <th>brand</th>\n",
       "      <th>model</th>\n",
       "      <th>year</th>\n",
       "      <th>mileage</th>\n",
       "      <th>engine_capacity</th>\n",
       "      <th>fuel</th>\n",
       "      <th>power</th>\n",
       "      <th>gearbox</th>\n",
       "      <th>drive</th>\n",
       "      <th>city_fuel_consumption</th>\n",
       "      <th>body</th>\n",
       "      <th>doors</th>\n",
       "      <th>seats</th>\n",
       "      <th>color</th>\n",
       "      <th>origin_country</th>\n",
       "      <th>accident_free</th>\n",
       "      <th>serviced_at_ASO</th>\n",
       "      <th>condition</th>\n",
       "      <th>price</th>\n",
       "    </tr>\n",
       "  </thead>\n",
       "  <tbody>\n",
       "    <tr>\n",
       "      <th>0</th>\n",
       "      <td>Audi</td>\n",
       "      <td>SQ7</td>\n",
       "      <td>2017.0</td>\n",
       "      <td>142800.0</td>\n",
       "      <td>3956.0</td>\n",
       "      <td>Diesel</td>\n",
       "      <td>435.0</td>\n",
       "      <td>Automatyczna</td>\n",
       "      <td>4x4 (stały)</td>\n",
       "      <td>8.0</td>\n",
       "      <td>SUV</td>\n",
       "      <td>5.0</td>\n",
       "      <td>7.0</td>\n",
       "      <td>Szary</td>\n",
       "      <td>Polska</td>\n",
       "      <td>Tak</td>\n",
       "      <td>Tak</td>\n",
       "      <td>Używane</td>\n",
       "      <td>269000.0</td>\n",
       "    </tr>\n",
       "    <tr>\n",
       "      <th>1</th>\n",
       "      <td>Audi</td>\n",
       "      <td>A3</td>\n",
       "      <td>2010.0</td>\n",
       "      <td>236000.0</td>\n",
       "      <td>1395.0</td>\n",
       "      <td>Benzyna</td>\n",
       "      <td>125.0</td>\n",
       "      <td>Manualna</td>\n",
       "      <td>Na przednie koła</td>\n",
       "      <td>NaN</td>\n",
       "      <td>Kompakt</td>\n",
       "      <td>5.0</td>\n",
       "      <td>5.0</td>\n",
       "      <td>Czarny</td>\n",
       "      <td>NaN</td>\n",
       "      <td>Tak</td>\n",
       "      <td>Tak</td>\n",
       "      <td>Używane</td>\n",
       "      <td>29900.0</td>\n",
       "    </tr>\n",
       "    <tr>\n",
       "      <th>2</th>\n",
       "      <td>Audi</td>\n",
       "      <td>A4</td>\n",
       "      <td>2018.0</td>\n",
       "      <td>84500.0</td>\n",
       "      <td>1968.0</td>\n",
       "      <td>Diesel</td>\n",
       "      <td>190.0</td>\n",
       "      <td>Automatyczna</td>\n",
       "      <td>4x4 (stały)</td>\n",
       "      <td>5.0</td>\n",
       "      <td>Kombi</td>\n",
       "      <td>5.0</td>\n",
       "      <td>5.0</td>\n",
       "      <td>Szary</td>\n",
       "      <td>NaN</td>\n",
       "      <td>NaN</td>\n",
       "      <td>NaN</td>\n",
       "      <td>Używane</td>\n",
       "      <td>60000.0</td>\n",
       "    </tr>\n",
       "    <tr>\n",
       "      <th>3</th>\n",
       "      <td>Audi</td>\n",
       "      <td>Q5</td>\n",
       "      <td>2018.0</td>\n",
       "      <td>38000.0</td>\n",
       "      <td>1984.0</td>\n",
       "      <td>Benzyna</td>\n",
       "      <td>252.0</td>\n",
       "      <td>Automatyczna</td>\n",
       "      <td>4x4 (stały)</td>\n",
       "      <td>8.0</td>\n",
       "      <td>SUV</td>\n",
       "      <td>5.0</td>\n",
       "      <td>5.0</td>\n",
       "      <td>Szary</td>\n",
       "      <td>NaN</td>\n",
       "      <td>NaN</td>\n",
       "      <td>NaN</td>\n",
       "      <td>Używane</td>\n",
       "      <td>75000.0</td>\n",
       "    </tr>\n",
       "    <tr>\n",
       "      <th>4</th>\n",
       "      <td>Audi</td>\n",
       "      <td>A7</td>\n",
       "      <td>2016.0</td>\n",
       "      <td>74885.0</td>\n",
       "      <td>2995.0</td>\n",
       "      <td>Benzyna</td>\n",
       "      <td>333.0</td>\n",
       "      <td>Automatyczna</td>\n",
       "      <td>4x4 (stały)</td>\n",
       "      <td>10.0</td>\n",
       "      <td>Kompakt</td>\n",
       "      <td>5.0</td>\n",
       "      <td>5.0</td>\n",
       "      <td>Biały</td>\n",
       "      <td>NaN</td>\n",
       "      <td>NaN</td>\n",
       "      <td>NaN</td>\n",
       "      <td>Używane</td>\n",
       "      <td>75000.0</td>\n",
       "    </tr>\n",
       "  </tbody>\n",
       "</table>\n",
       "</div>"
      ],
      "text/plain": [
       "  brand model    year   mileage  engine_capacity     fuel  power  \\\n",
       "0  Audi   SQ7  2017.0  142800.0           3956.0   Diesel  435.0   \n",
       "1  Audi    A3  2010.0  236000.0           1395.0  Benzyna  125.0   \n",
       "2  Audi    A4  2018.0   84500.0           1968.0   Diesel  190.0   \n",
       "3  Audi    Q5  2018.0   38000.0           1984.0  Benzyna  252.0   \n",
       "4  Audi    A7  2016.0   74885.0           2995.0  Benzyna  333.0   \n",
       "\n",
       "        gearbox             drive  city_fuel_consumption     body  doors  \\\n",
       "0  Automatyczna       4x4 (stały)                    8.0      SUV    5.0   \n",
       "1      Manualna  Na przednie koła                    NaN  Kompakt    5.0   \n",
       "2  Automatyczna       4x4 (stały)                    5.0    Kombi    5.0   \n",
       "3  Automatyczna       4x4 (stały)                    8.0      SUV    5.0   \n",
       "4  Automatyczna       4x4 (stały)                   10.0  Kompakt    5.0   \n",
       "\n",
       "   seats   color origin_country accident_free serviced_at_ASO condition  \\\n",
       "0    7.0   Szary         Polska           Tak             Tak   Używane   \n",
       "1    5.0  Czarny            NaN           Tak             Tak   Używane   \n",
       "2    5.0   Szary            NaN           NaN             NaN   Używane   \n",
       "3    5.0   Szary            NaN           NaN             NaN   Używane   \n",
       "4    5.0   Biały            NaN           NaN             NaN   Używane   \n",
       "\n",
       "      price  \n",
       "0  269000.0  \n",
       "1   29900.0  \n",
       "2   60000.0  \n",
       "3   75000.0  \n",
       "4   75000.0  "
      ]
     },
     "execution_count": 276,
     "metadata": {},
     "output_type": "execute_result"
    }
   ],
   "source": [
    "# Drop no longer needed columns\n",
    "data = data.drop(['price', 'currency'], axis='columns')\n",
    "\n",
    "data = data.rename(columns={\"value\": \"price\"})\n",
    "\n",
    "data.head()"
   ]
  },
  {
   "attachments": {},
   "cell_type": "markdown",
   "metadata": {},
   "source": [
    "## **Categorical columns**"
   ]
  },
  {
   "attachments": {},
   "cell_type": "markdown",
   "metadata": {},
   "source": [
    "To ensure robust analysis, a minimum of 50 observations is set as a benchmark for each category. Any rows that fall short of this criterion will be filtered out, guaranteeing the reliability of the dataset.\n",
    "\n",
    "Categorical columns in the dataset:\n",
    "* brand\n",
    "* model\n",
    "* fuel_type\n",
    "* gearbox\n",
    "* drive\n",
    "* body_type\n",
    "* doors\n",
    "* seats\n",
    "* color\n",
    "* origin_country\n",
    "* accident_free\n",
    "* serviced_at_ASO\n",
    "* condition"
   ]
  },
  {
   "cell_type": "code",
   "execution_count": 277,
   "metadata": {},
   "outputs": [
    {
     "data": {
      "text/html": [
       "<div>\n",
       "<style scoped>\n",
       "    .dataframe tbody tr th:only-of-type {\n",
       "        vertical-align: middle;\n",
       "    }\n",
       "\n",
       "    .dataframe tbody tr th {\n",
       "        vertical-align: top;\n",
       "    }\n",
       "\n",
       "    .dataframe thead th {\n",
       "        text-align: right;\n",
       "    }\n",
       "</style>\n",
       "<table border=\"1\" class=\"dataframe\">\n",
       "  <thead>\n",
       "    <tr style=\"text-align: right;\">\n",
       "      <th></th>\n",
       "      <th>brand</th>\n",
       "      <th>model</th>\n",
       "      <th>year</th>\n",
       "      <th>mileage</th>\n",
       "      <th>engine_capacity</th>\n",
       "      <th>fuel</th>\n",
       "      <th>power</th>\n",
       "      <th>gearbox</th>\n",
       "      <th>drive</th>\n",
       "      <th>city_fuel_consumption</th>\n",
       "      <th>body</th>\n",
       "      <th>doors</th>\n",
       "      <th>seats</th>\n",
       "      <th>color</th>\n",
       "      <th>origin_country</th>\n",
       "      <th>accident_free</th>\n",
       "      <th>serviced_at_ASO</th>\n",
       "      <th>condition</th>\n",
       "      <th>price</th>\n",
       "    </tr>\n",
       "  </thead>\n",
       "  <tbody>\n",
       "    <tr>\n",
       "      <th>0</th>\n",
       "      <td>Audi</td>\n",
       "      <td>SQ7</td>\n",
       "      <td>2017.0</td>\n",
       "      <td>142800.0</td>\n",
       "      <td>3956.0</td>\n",
       "      <td>Diesel</td>\n",
       "      <td>435.0</td>\n",
       "      <td>Automatyczna</td>\n",
       "      <td>4x4 (stały)</td>\n",
       "      <td>8.0</td>\n",
       "      <td>SUV</td>\n",
       "      <td>5.0</td>\n",
       "      <td>7.0</td>\n",
       "      <td>Szary</td>\n",
       "      <td>Polska</td>\n",
       "      <td>Tak</td>\n",
       "      <td>Tak</td>\n",
       "      <td>Używane</td>\n",
       "      <td>269000.0</td>\n",
       "    </tr>\n",
       "    <tr>\n",
       "      <th>1</th>\n",
       "      <td>Audi</td>\n",
       "      <td>A3</td>\n",
       "      <td>2010.0</td>\n",
       "      <td>236000.0</td>\n",
       "      <td>1395.0</td>\n",
       "      <td>Benzyna</td>\n",
       "      <td>125.0</td>\n",
       "      <td>Manualna</td>\n",
       "      <td>Na przednie koła</td>\n",
       "      <td>NaN</td>\n",
       "      <td>Kompakt</td>\n",
       "      <td>5.0</td>\n",
       "      <td>5.0</td>\n",
       "      <td>Czarny</td>\n",
       "      <td>NaN</td>\n",
       "      <td>Tak</td>\n",
       "      <td>Tak</td>\n",
       "      <td>Używane</td>\n",
       "      <td>29900.0</td>\n",
       "    </tr>\n",
       "    <tr>\n",
       "      <th>2</th>\n",
       "      <td>Audi</td>\n",
       "      <td>A4</td>\n",
       "      <td>2018.0</td>\n",
       "      <td>84500.0</td>\n",
       "      <td>1968.0</td>\n",
       "      <td>Diesel</td>\n",
       "      <td>190.0</td>\n",
       "      <td>Automatyczna</td>\n",
       "      <td>4x4 (stały)</td>\n",
       "      <td>5.0</td>\n",
       "      <td>Kombi</td>\n",
       "      <td>5.0</td>\n",
       "      <td>5.0</td>\n",
       "      <td>Szary</td>\n",
       "      <td>NaN</td>\n",
       "      <td>NaN</td>\n",
       "      <td>NaN</td>\n",
       "      <td>Używane</td>\n",
       "      <td>60000.0</td>\n",
       "    </tr>\n",
       "    <tr>\n",
       "      <th>3</th>\n",
       "      <td>Audi</td>\n",
       "      <td>Q5</td>\n",
       "      <td>2018.0</td>\n",
       "      <td>38000.0</td>\n",
       "      <td>1984.0</td>\n",
       "      <td>Benzyna</td>\n",
       "      <td>252.0</td>\n",
       "      <td>Automatyczna</td>\n",
       "      <td>4x4 (stały)</td>\n",
       "      <td>8.0</td>\n",
       "      <td>SUV</td>\n",
       "      <td>5.0</td>\n",
       "      <td>5.0</td>\n",
       "      <td>Szary</td>\n",
       "      <td>NaN</td>\n",
       "      <td>NaN</td>\n",
       "      <td>NaN</td>\n",
       "      <td>Używane</td>\n",
       "      <td>75000.0</td>\n",
       "    </tr>\n",
       "    <tr>\n",
       "      <th>4</th>\n",
       "      <td>Audi</td>\n",
       "      <td>A7</td>\n",
       "      <td>2016.0</td>\n",
       "      <td>74885.0</td>\n",
       "      <td>2995.0</td>\n",
       "      <td>Benzyna</td>\n",
       "      <td>333.0</td>\n",
       "      <td>Automatyczna</td>\n",
       "      <td>4x4 (stały)</td>\n",
       "      <td>10.0</td>\n",
       "      <td>Kompakt</td>\n",
       "      <td>5.0</td>\n",
       "      <td>5.0</td>\n",
       "      <td>Biały</td>\n",
       "      <td>NaN</td>\n",
       "      <td>NaN</td>\n",
       "      <td>NaN</td>\n",
       "      <td>Używane</td>\n",
       "      <td>75000.0</td>\n",
       "    </tr>\n",
       "  </tbody>\n",
       "</table>\n",
       "</div>"
      ],
      "text/plain": [
       "  brand model    year   mileage  engine_capacity     fuel  power  \\\n",
       "0  Audi   SQ7  2017.0  142800.0           3956.0   Diesel  435.0   \n",
       "1  Audi    A3  2010.0  236000.0           1395.0  Benzyna  125.0   \n",
       "2  Audi    A4  2018.0   84500.0           1968.0   Diesel  190.0   \n",
       "3  Audi    Q5  2018.0   38000.0           1984.0  Benzyna  252.0   \n",
       "4  Audi    A7  2016.0   74885.0           2995.0  Benzyna  333.0   \n",
       "\n",
       "        gearbox             drive  city_fuel_consumption     body  doors  \\\n",
       "0  Automatyczna       4x4 (stały)                    8.0      SUV    5.0   \n",
       "1      Manualna  Na przednie koła                    NaN  Kompakt    5.0   \n",
       "2  Automatyczna       4x4 (stały)                    5.0    Kombi    5.0   \n",
       "3  Automatyczna       4x4 (stały)                    8.0      SUV    5.0   \n",
       "4  Automatyczna       4x4 (stały)                   10.0  Kompakt    5.0   \n",
       "\n",
       "   seats   color origin_country accident_free serviced_at_ASO condition  \\\n",
       "0    7.0   Szary         Polska           Tak             Tak   Używane   \n",
       "1    5.0  Czarny            NaN           Tak             Tak   Używane   \n",
       "2    5.0   Szary            NaN           NaN             NaN   Używane   \n",
       "3    5.0   Szary            NaN           NaN             NaN   Używane   \n",
       "4    5.0   Biały            NaN           NaN             NaN   Używane   \n",
       "\n",
       "      price  \n",
       "0  269000.0  \n",
       "1   29900.0  \n",
       "2   60000.0  \n",
       "3   75000.0  \n",
       "4   75000.0  "
      ]
     },
     "execution_count": 277,
     "metadata": {},
     "output_type": "execute_result"
    }
   ],
   "source": [
    "data.head()"
   ]
  },
  {
   "attachments": {},
   "cell_type": "markdown",
   "metadata": {},
   "source": [
    "### **brand**"
   ]
  },
  {
   "cell_type": "code",
   "execution_count": 278,
   "metadata": {},
   "outputs": [
    {
     "data": {
      "text/plain": [
       "brand\n",
       "BMW              17720\n",
       "Audi             17579\n",
       "Volkswagen       17505\n",
       "Ford             15370\n",
       "Opel             14517\n",
       "Mercedes-Benz    13599\n",
       "Renault          10258\n",
       "Toyota            9833\n",
       "Skoda             9510\n",
       "Peugeot           8154\n",
       "Seat                 2\n",
       "Lancia               1\n",
       "Name: count, dtype: int64"
      ]
     },
     "execution_count": 278,
     "metadata": {},
     "output_type": "execute_result"
    }
   ],
   "source": [
    "data['brand'].value_counts()"
   ]
  },
  {
   "cell_type": "code",
   "execution_count": 279,
   "metadata": {},
   "outputs": [],
   "source": [
    "# Brands Seat and Lancia should not be in the dataset, so I drop them\n",
    "data = data[~data['brand'].isin(['Seat', 'Lancia'])]"
   ]
  },
  {
   "attachments": {},
   "cell_type": "markdown",
   "metadata": {},
   "source": [
    "### **model**"
   ]
  },
  {
   "cell_type": "code",
   "execution_count": 280,
   "metadata": {},
   "outputs": [
    {
     "data": {
      "text/plain": [
       "brand       model                                                                                 \n",
       "Audi        100                                                                                        25\n",
       "            200                                                                                         2\n",
       "            80                                                                                         65\n",
       "            90                                                                                          1\n",
       "            A1                                                                                        206\n",
       "                                                                                                     ... \n",
       "Volkswagen  Touran                                                                                    883\n",
       "            Transporter                                                                               261\n",
       "            Vento                                                                                       3\n",
       "            id-buzz 150 kW (204 PS) / skrzynia biegów: automatyczna 1 biegowa rozstaw osi: 2988 mm      2\n",
       "            up!                                                                                       267\n",
       "Length: 435, dtype: int64"
      ]
     },
     "execution_count": 280,
     "metadata": {},
     "output_type": "execute_result"
    }
   ],
   "source": [
    "data.groupby(['brand', 'model']).size()"
   ]
  },
  {
   "cell_type": "code",
   "execution_count": 281,
   "metadata": {},
   "outputs": [
    {
     "name": "stdout",
     "output_type": "stream",
     "text": [
      "Dropped 184 models with less than 50 offers.\n"
     ]
    }
   ],
   "source": [
    "value_counts = data['model'].value_counts()\n",
    "filtered_models = value_counts[value_counts < 50].index\n",
    "print(f'Dropped {len(filtered_models)} models with less than 50 offers.')\n",
    "\n",
    "data = data[~data['model'].isin(filtered_models)]"
   ]
  },
  {
   "attachments": {},
   "cell_type": "markdown",
   "metadata": {},
   "source": [
    "### **fuel**"
   ]
  },
  {
   "cell_type": "code",
   "execution_count": 282,
   "metadata": {},
   "outputs": [],
   "source": [
    "# Translating fuel types from polish to english\n",
    "translations = {\n",
    "    'Diesel': 'Diesel',\n",
    "    'Benzyna': 'Gasoline',\n",
    "    'Hybryda': 'Hybrid',\n",
    "    'Benzyna+LPG': 'Gasoline+LPG',\n",
    "    'Elektryczny': 'Electric',\n",
    "    'Benzyna+CNG': 'Gasoline+CNG',\n",
    "    'Wodór': 'Hydrogen',\n",
    "    'Etanol': 'Ethanol'\n",
    "}\n",
    "\n",
    "data['fuel'] = data['fuel'].replace(translations)"
   ]
  },
  {
   "cell_type": "code",
   "execution_count": 283,
   "metadata": {},
   "outputs": [
    {
     "data": {
      "text/plain": [
       "fuel\n",
       "Diesel          61634\n",
       "Gasoline        59411\n",
       "Hybrid           4217\n",
       "Gasoline+LPG     3953\n",
       "Electric         2118\n",
       "Gasoline+CNG       47\n",
       "Ethanol             1\n",
       "Name: count, dtype: int64"
      ]
     },
     "execution_count": 283,
     "metadata": {},
     "output_type": "execute_result"
    }
   ],
   "source": [
    "data['fuel'].value_counts()"
   ]
  },
  {
   "cell_type": "code",
   "execution_count": 284,
   "metadata": {},
   "outputs": [
    {
     "data": {
      "text/html": [
       "<div>\n",
       "<style scoped>\n",
       "    .dataframe tbody tr th:only-of-type {\n",
       "        vertical-align: middle;\n",
       "    }\n",
       "\n",
       "    .dataframe tbody tr th {\n",
       "        vertical-align: top;\n",
       "    }\n",
       "\n",
       "    .dataframe thead th {\n",
       "        text-align: right;\n",
       "    }\n",
       "</style>\n",
       "<table border=\"1\" class=\"dataframe\">\n",
       "  <thead>\n",
       "    <tr style=\"text-align: right;\">\n",
       "      <th></th>\n",
       "      <th>brand</th>\n",
       "      <th>model</th>\n",
       "      <th>year</th>\n",
       "      <th>mileage</th>\n",
       "      <th>engine_capacity</th>\n",
       "      <th>fuel</th>\n",
       "      <th>power</th>\n",
       "      <th>gearbox</th>\n",
       "      <th>drive</th>\n",
       "      <th>city_fuel_consumption</th>\n",
       "      <th>body</th>\n",
       "      <th>doors</th>\n",
       "      <th>seats</th>\n",
       "      <th>color</th>\n",
       "      <th>origin_country</th>\n",
       "      <th>accident_free</th>\n",
       "      <th>serviced_at_ASO</th>\n",
       "      <th>condition</th>\n",
       "      <th>price</th>\n",
       "    </tr>\n",
       "  </thead>\n",
       "  <tbody>\n",
       "    <tr>\n",
       "      <th>117486</th>\n",
       "      <td>Volkswagen</td>\n",
       "      <td>ID.5</td>\n",
       "      <td>2023.0</td>\n",
       "      <td>7.0</td>\n",
       "      <td>1395.0</td>\n",
       "      <td>Ethanol</td>\n",
       "      <td>204.0</td>\n",
       "      <td>Automatyczna</td>\n",
       "      <td>Na tylne koła</td>\n",
       "      <td>NaN</td>\n",
       "      <td>SUV</td>\n",
       "      <td>5.0</td>\n",
       "      <td>5.0</td>\n",
       "      <td>Biały</td>\n",
       "      <td>Polska</td>\n",
       "      <td>Tak</td>\n",
       "      <td>NaN</td>\n",
       "      <td>Nowe</td>\n",
       "      <td>258790.0</td>\n",
       "    </tr>\n",
       "  </tbody>\n",
       "</table>\n",
       "</div>"
      ],
      "text/plain": [
       "             brand model    year  mileage  engine_capacity     fuel  power  \\\n",
       "117486  Volkswagen  ID.5  2023.0      7.0           1395.0  Ethanol  204.0   \n",
       "\n",
       "             gearbox          drive  city_fuel_consumption body  doors  seats  \\\n",
       "117486  Automatyczna  Na tylne koła                    NaN  SUV    5.0    5.0   \n",
       "\n",
       "        color origin_country accident_free serviced_at_ASO condition     price  \n",
       "117486  Biały         Polska           Tak             NaN      Nowe  258790.0  "
      ]
     },
     "execution_count": 284,
     "metadata": {},
     "output_type": "execute_result"
    }
   ],
   "source": [
    "# What is interesting, there is one car that is fueled by Ethanol\n",
    "data[data['fuel'] == 'Ethanol']"
   ]
  },
  {
   "cell_type": "code",
   "execution_count": 285,
   "metadata": {},
   "outputs": [],
   "source": [
    "# Filtering out cars with fuel type that do not meet the benchmark\n",
    "data = data[~data['fuel'].isin(['Gasoline+CNG', 'Ethanol'])]"
   ]
  },
  {
   "attachments": {},
   "cell_type": "markdown",
   "metadata": {},
   "source": [
    "### **gearbox**"
   ]
  },
  {
   "cell_type": "code",
   "execution_count": 286,
   "metadata": {},
   "outputs": [],
   "source": [
    "# Translating gearbox types from polish to english\n",
    "translations = {\n",
    "    'Manualna': 'Manual',\n",
    "    'Automatyczna': 'Automatic',\n",
    "}\n",
    "\n",
    "data['gearbox'] = data['gearbox'].replace(translations)"
   ]
  },
  {
   "cell_type": "code",
   "execution_count": 287,
   "metadata": {},
   "outputs": [
    {
     "data": {
      "text/plain": [
       "gearbox\n",
       "Manual       71306\n",
       "Automatic    59973\n",
       "Name: count, dtype: int64"
      ]
     },
     "execution_count": 287,
     "metadata": {},
     "output_type": "execute_result"
    }
   ],
   "source": [
    "data['gearbox'].value_counts()"
   ]
  },
  {
   "attachments": {},
   "cell_type": "markdown",
   "metadata": {},
   "source": [
    "### **drive**"
   ]
  },
  {
   "cell_type": "code",
   "execution_count": 288,
   "metadata": {},
   "outputs": [],
   "source": [
    "# Translating drive types from polish to english\n",
    "translations = {\n",
    "    'Na przednie koła': 'Front-wheel',\n",
    "    '4x4 (stały)': '4x4 (permanent)',\n",
    "    'Na tylne koła': 'Rear-wheel',\n",
    "    '4x4 (dołączany automatycznie)': '4x4 (automatic)',\n",
    "    '4x4 (dołączany ręcznie)': '4x4 (manual)'\n",
    "}\n",
    "\n",
    "data['drive'] = data['drive'].replace(translations)"
   ]
  },
  {
   "cell_type": "code",
   "execution_count": 289,
   "metadata": {},
   "outputs": [
    {
     "data": {
      "text/plain": [
       "drive\n",
       "Front-wheel        74318\n",
       "4x4 (permanent)    13539\n",
       "Rear-wheel         13176\n",
       "4x4 (automatic)    12299\n",
       "4x4 (manual)         853\n",
       "Name: count, dtype: int64"
      ]
     },
     "execution_count": 289,
     "metadata": {},
     "output_type": "execute_result"
    }
   ],
   "source": [
    "data['drive'].value_counts()"
   ]
  },
  {
   "attachments": {},
   "cell_type": "markdown",
   "metadata": {},
   "source": [
    "### **body**"
   ]
  },
  {
   "cell_type": "code",
   "execution_count": 290,
   "metadata": {},
   "outputs": [],
   "source": [
    "# Translating body types from polish to english\n",
    "translations = {\n",
    "    'Kombi': 'Estate',\n",
    "    'SUV': 'SUV',\n",
    "    'Sedan': 'Sedan',\n",
    "    'Kompakt': 'Compact',\n",
    "    'Minivan': 'Minivan',\n",
    "    'Auta miejskie': 'City_car',\n",
    "    'Coupe': 'Coupe',\n",
    "    'Auta małe': 'Small_car',\n",
    "    'Kabriolet': 'Convertible'\n",
    "}\n",
    "\n",
    "data['body'] = data['body'].replace(translations)"
   ]
  },
  {
   "cell_type": "code",
   "execution_count": 291,
   "metadata": {},
   "outputs": [
    {
     "data": {
      "text/plain": [
       "body\n",
       "Estate         29884\n",
       "SUV            26222\n",
       "Sedan          22623\n",
       "Compact        20876\n",
       "Minivan        12567\n",
       "City_car        8201\n",
       "Coupe           5365\n",
       "Small_car       3381\n",
       "Convertible     2214\n",
       "Name: count, dtype: int64"
      ]
     },
     "execution_count": 291,
     "metadata": {},
     "output_type": "execute_result"
    }
   ],
   "source": [
    "data['body'].value_counts()"
   ]
  },
  {
   "attachments": {},
   "cell_type": "markdown",
   "metadata": {},
   "source": [
    "### **doors**"
   ]
  },
  {
   "cell_type": "code",
   "execution_count": 292,
   "metadata": {},
   "outputs": [
    {
     "data": {
      "text/plain": [
       "doors\n",
       "5.0    102114\n",
       "4.0     17540\n",
       "3.0      6068\n",
       "2.0      4837\n",
       "6.0        55\n",
       "Name: count, dtype: int64"
      ]
     },
     "execution_count": 292,
     "metadata": {},
     "output_type": "execute_result"
    }
   ],
   "source": [
    "data['doors'].value_counts()"
   ]
  },
  {
   "attachments": {},
   "cell_type": "markdown",
   "metadata": {},
   "source": [
    "### **seats**"
   ]
  },
  {
   "cell_type": "code",
   "execution_count": 293,
   "metadata": {},
   "outputs": [
    {
     "data": {
      "text/plain": [
       "seats\n",
       "5.0    107564\n",
       "4.0      7265\n",
       "7.0      4922\n",
       "2.0      1153\n",
       "9.0       815\n",
       "6.0       508\n",
       "8.0       466\n",
       "3.0       430\n",
       "1.0        34\n",
       "Name: count, dtype: int64"
      ]
     },
     "execution_count": 293,
     "metadata": {},
     "output_type": "execute_result"
    }
   ],
   "source": [
    "data['seats'].value_counts()"
   ]
  },
  {
   "cell_type": "code",
   "execution_count": 294,
   "metadata": {},
   "outputs": [],
   "source": [
    "# Filtering out cars number of seats that do not meet the benchmark\n",
    "data = data[data['seats'] != 1]"
   ]
  },
  {
   "attachments": {},
   "cell_type": "markdown",
   "metadata": {},
   "source": [
    "### **color**"
   ]
  },
  {
   "cell_type": "code",
   "execution_count": 295,
   "metadata": {},
   "outputs": [],
   "source": [
    "# Translating colors from polish to english\n",
    "translations = {\n",
    "    'Czarny': 'Black',\n",
    "    'Szary': 'Gray',\n",
    "    'Biały': 'White',\n",
    "    'Srebrny': 'Silver',\n",
    "    'Niebieski': 'Blue',\n",
    "    'Inny kolor': 'Other_color',\n",
    "    'Granatowy': 'Navy_blue',\n",
    "    'Czerwony': 'Red',\n",
    "    'Brązowy': 'Brown',\n",
    "    'Zielony': 'Green',\n",
    "    'Bordowy': 'Burgundy',\n",
    "    'Złoty': 'Gold',\n",
    "    'Beżowy': 'Beige',\n",
    "    'Błękitny': 'Light_blue',\n",
    "    'Pomarańczowy': 'Orange',\n",
    "    'Żółty': 'Yellow',\n",
    "    'Fioletowy': 'Purple'\n",
    "}\n",
    "\n",
    "data['color'] = data['color'].replace(translations)"
   ]
  },
  {
   "cell_type": "code",
   "execution_count": 296,
   "metadata": {},
   "outputs": [
    {
     "data": {
      "text/plain": [
       "color\n",
       "Black          34102\n",
       "Gray           21377\n",
       "White          21050\n",
       "Silver         18500\n",
       "Blue            9403\n",
       "Other_color     5695\n",
       "Navy_blue       4894\n",
       "Red             4768\n",
       "Brown           3031\n",
       "Green           1942\n",
       "Burgundy        1522\n",
       "Gold            1376\n",
       "Beige           1173\n",
       "Light_blue      1109\n",
       "Orange           530\n",
       "Yellow           469\n",
       "Purple           358\n",
       "Name: count, dtype: int64"
      ]
     },
     "execution_count": 296,
     "metadata": {},
     "output_type": "execute_result"
    }
   ],
   "source": [
    "data['color'].value_counts()"
   ]
  },
  {
   "attachments": {},
   "cell_type": "markdown",
   "metadata": {},
   "source": [
    "### **origin_country**"
   ]
  },
  {
   "cell_type": "code",
   "execution_count": 297,
   "metadata": {},
   "outputs": [],
   "source": [
    "# Translating origin countries from polish to english\n",
    "translations = {\n",
    "    'Polska': 'Poland',\n",
    "    'Niemcy': 'Germany',\n",
    "    'Francja': 'France',\n",
    "    'Stany Zjednoczone': 'United_States',\n",
    "    'Belgia': 'Belgium',\n",
    "    'Szwajcaria': 'Switzerland',\n",
    "    'Holandia': 'Netherlands',\n",
    "    'Włochy': 'Italy',\n",
    "    'Szwecja': 'Sweden',\n",
    "    'Austria': 'Austria',\n",
    "    'Dania': 'Denmark',\n",
    "    'Kanada': 'Canada',\n",
    "    'Japonia': 'Japan',\n",
    "    'Czechy': 'Czech_Republic',\n",
    "    'Wielka Brytania': 'United_Kingdom',\n",
    "    'Luksemburg': 'Luxembourg',\n",
    "    'Norwegia': 'Norway',\n",
    "    'Hiszpania': 'Spain',\n",
    "    'Inny': 'Other',\n",
    "    'Finlandia': 'Finland',\n",
    "    'Słowacja': 'Slovakia',\n",
    "    'Słowenia': 'Slovenia',\n",
    "    'Grecja': 'Greece',\n",
    "    'Litwa': 'Lithuania',\n",
    "    'Estonia': 'Estonia',\n",
    "    'Węgry': 'Hungary',\n",
    "    'Rumunia': 'Romania',\n",
    "    'Irlandia': 'Ireland',\n",
    "    'Islandia': 'Iceland',\n",
    "    'Liechtenstein': 'Liechtenstein',\n",
    "    'Łotwa': 'Latvia',\n",
    "    'Rosja': 'Russia',\n",
    "    'Monako': 'Monaco',\n",
    "    'Bułgaria': 'Bulgaria',\n",
    "    'Ukraina': 'Ukraine',\n",
    "    'Chorwacja': 'Croatia',\n",
    "    'Turcja': 'Turkey',\n",
    "    'Korea': 'Korea'\n",
    "}\n",
    "\n",
    "data['origin_country'] = data['origin_country'].replace(translations)"
   ]
  },
  {
   "cell_type": "code",
   "execution_count": 298,
   "metadata": {},
   "outputs": [
    {
     "data": {
      "text/plain": [
       "origin_country\n",
       "Poland            42241\n",
       "Germany           27322\n",
       "France             4411\n",
       "United_States      2864\n",
       "Belgium            2790\n",
       "Switzerland        1515\n",
       "Netherlands        1202\n",
       "Italy               915\n",
       "Sweden              758\n",
       "Austria             670\n",
       "Denmark             457\n",
       "Canada              426\n",
       "Japan               301\n",
       "Czech_Republic      178\n",
       "United_Kingdom      143\n",
       "Luxembourg          127\n",
       "Norway              113\n",
       "Spain                89\n",
       "Other                73\n",
       "Finland              67\n",
       "Slovakia             32\n",
       "Slovenia              6\n",
       "Greece                6\n",
       "Lithuania             5\n",
       "Estonia               5\n",
       "Hungary               5\n",
       "Romania               3\n",
       "Ireland               3\n",
       "Iceland               3\n",
       "Liechtenstein         3\n",
       "Latvia                2\n",
       "Russia                2\n",
       "Monaco                1\n",
       "Bulgaria              1\n",
       "Ukraine               1\n",
       "Croatia               1\n",
       "Turkey                1\n",
       "Korea                 1\n",
       "Name: count, dtype: int64"
      ]
     },
     "execution_count": 298,
     "metadata": {},
     "output_type": "execute_result"
    }
   ],
   "source": [
    "data['origin_country'].value_counts()"
   ]
  },
  {
   "cell_type": "code",
   "execution_count": 299,
   "metadata": {},
   "outputs": [
    {
     "name": "stdout",
     "output_type": "stream",
     "text": [
      "There are 18 countries of origin with less than 50 offers.\n"
     ]
    }
   ],
   "source": [
    "value_counts = data['origin_country'].value_counts()\n",
    "filtered_countries = value_counts[value_counts < 50].index\n",
    "print(f'There are {len(filtered_countries)} countries of origin with less than 50 offers.')\n",
    "\n",
    "data = data[~data['origin_country'].isin(filtered_countries)]"
   ]
  },
  {
   "attachments": {},
   "cell_type": "markdown",
   "metadata": {},
   "source": [
    "### **accident_free**"
   ]
  },
  {
   "cell_type": "code",
   "execution_count": 300,
   "metadata": {},
   "outputs": [],
   "source": [
    "# Translating whether the car is accident free from polish to english\n",
    "data.loc[data['accident_free'] == 'Tak', 'accident_free'] = True"
   ]
  },
  {
   "cell_type": "code",
   "execution_count": 301,
   "metadata": {},
   "outputs": [
    {
     "data": {
      "text/plain": [
       "accident_free\n",
       "True    74026\n",
       "Name: count, dtype: int64"
      ]
     },
     "execution_count": 301,
     "metadata": {},
     "output_type": "execute_result"
    }
   ],
   "source": [
    "data['accident_free'].value_counts()"
   ]
  },
  {
   "cell_type": "code",
   "execution_count": 302,
   "metadata": {},
   "outputs": [],
   "source": [
    "# I will assume that if someone has not marked that the car is accident free, then it is not\n",
    "data['accident_free'] = data['accident_free'].fillna(False)"
   ]
  },
  {
   "cell_type": "code",
   "execution_count": 303,
   "metadata": {},
   "outputs": [
    {
     "data": {
      "text/plain": [
       "accident_free\n",
       "True     74026\n",
       "False    57192\n",
       "Name: count, dtype: int64"
      ]
     },
     "execution_count": 303,
     "metadata": {},
     "output_type": "execute_result"
    }
   ],
   "source": [
    "data['accident_free'].value_counts()"
   ]
  },
  {
   "attachments": {},
   "cell_type": "markdown",
   "metadata": {},
   "source": [
    "### **serviced_at_ASO**"
   ]
  },
  {
   "cell_type": "code",
   "execution_count": 304,
   "metadata": {},
   "outputs": [],
   "source": [
    "# Translating whether the car was serviced at ASO from polish to english\n",
    "data.loc[data['serviced_at_ASO'] == 'Tak', 'serviced_at_ASO'] = True"
   ]
  },
  {
   "cell_type": "code",
   "execution_count": 305,
   "metadata": {},
   "outputs": [
    {
     "data": {
      "text/plain": [
       "serviced_at_ASO\n",
       "True    59616\n",
       "Name: count, dtype: int64"
      ]
     },
     "execution_count": 305,
     "metadata": {},
     "output_type": "execute_result"
    }
   ],
   "source": [
    "data['serviced_at_ASO'].value_counts()"
   ]
  },
  {
   "cell_type": "code",
   "execution_count": 306,
   "metadata": {},
   "outputs": [],
   "source": [
    "# I will assume that if someone has not marked that the car was serviced at ASO, then it was not\n",
    "data['serviced_at_ASO'] = data['serviced_at_ASO'].fillna(False)"
   ]
  },
  {
   "cell_type": "code",
   "execution_count": 307,
   "metadata": {},
   "outputs": [
    {
     "data": {
      "text/plain": [
       "serviced_at_ASO\n",
       "False    71602\n",
       "True     59616\n",
       "Name: count, dtype: int64"
      ]
     },
     "execution_count": 307,
     "metadata": {},
     "output_type": "execute_result"
    }
   ],
   "source": [
    "data['serviced_at_ASO'].value_counts()"
   ]
  },
  {
   "attachments": {},
   "cell_type": "markdown",
   "metadata": {},
   "source": [
    "### **condition**"
   ]
  },
  {
   "cell_type": "code",
   "execution_count": 308,
   "metadata": {},
   "outputs": [],
   "source": [
    "# Translating car condition from polish to english\n",
    "translations = {\n",
    "    'Używane': 'Used',\n",
    "    'Nowe': 'New'\n",
    "}\n",
    "\n",
    "data['condition'] = data['condition'].replace(translations)"
   ]
  },
  {
   "cell_type": "code",
   "execution_count": 309,
   "metadata": {},
   "outputs": [
    {
     "data": {
      "text/plain": [
       "condition\n",
       "Used    119422\n",
       "New      11796\n",
       "Name: count, dtype: int64"
      ]
     },
     "execution_count": 309,
     "metadata": {},
     "output_type": "execute_result"
    }
   ],
   "source": [
    "data['condition'].value_counts()"
   ]
  },
  {
   "attachments": {},
   "cell_type": "markdown",
   "metadata": {},
   "source": [
    "## **Outliers**"
   ]
  },
  {
   "cell_type": "code",
   "execution_count": 310,
   "metadata": {},
   "outputs": [],
   "source": [
    "features = ['year', 'mileage', 'engine_capacity', 'power', 'city_fuel_consumption', 'price']"
   ]
  },
  {
   "cell_type": "code",
   "execution_count": 311,
   "metadata": {},
   "outputs": [
    {
     "data": {
      "image/png": "[encoded data removed]",
      "text/plain": [
       "<Figure size 1000x800 with 6 Axes>"
      ]
     },
     "metadata": {},
     "output_type": "display_data"
    }
   ],
   "source": [
    "# First, using boxplot I will check the distribution of numerical features\n",
    "\n",
    "fig, axes = plt.subplots(2, 3, figsize=(10, 8))\n",
    "axes = axes.flatten()\n",
    "\n",
    "for i, feature in enumerate(features):\n",
    "    ax = axes[i]\n",
    "    sns.boxplot(x=data[feature], ax=ax)\n",
    "    ax.set_title(feature)\n",
    "    ax.set_xlabel('')\n",
    "\n",
    "plt.suptitle('Boxplots of Numerical Features', fontsize=16)\n",
    "plt.tight_layout()\n",
    "plt.show()"
   ]
  },
  {
   "cell_type": "code",
   "execution_count": 312,
   "metadata": {},
   "outputs": [
    {
     "data": {
      "text/plain": [
       "496.17225316409144"
      ]
     },
     "execution_count": 312,
     "metadata": {},
     "output_type": "execute_result"
    }
   ],
   "source": [
    "data['price'].max()/data['price'].mean()"
   ]
  },
  {
   "cell_type": "markdown",
   "metadata": {},
   "source": [
    "The dataset contains numerous outliers, with each numerical feature exhibiting a few of these exceptional values. Among them, the most striking outlier appears to be situated within the price column, where max value is almost 500x bigger than the average.\n",
    "\n",
    "\n",
    "In order to deal with outliers, I decided to use **winsorization**."
   ]
  },
  {
   "cell_type": "code",
   "execution_count": 313,
   "metadata": {},
   "outputs": [
    {
     "data": {
      "image/png": "[encoded data removed]",
      "text/plain": [
       "<Figure size 1000x800 with 6 Axes>"
      ]
     },
     "metadata": {},
     "output_type": "display_data"
    }
   ],
   "source": [
    "# Distribution of numerical features after winsorization with the benchmark of 2%\n",
    "\n",
    "from scipy.stats.mstats import winsorize\n",
    "\n",
    "fig, axes = plt.subplots(2, 3, figsize=(10, 8))\n",
    "axes = axes.flatten()\n",
    "\n",
    "for i, feature in enumerate(features):\n",
    "    ax = axes[i]\n",
    "    sns.boxplot(x=winsorize(data[feature], limits=[0.01, 0.01]).data, ax=ax)\n",
    "    ax.set_title(feature)\n",
    "    ax.set_xlabel('')\n",
    "\n",
    "plt.suptitle('Boxplots of Winsorized Numerical Features', fontsize=16)\n",
    "plt.tight_layout()\n",
    "plt.show()"
   ]
  },
  {
   "cell_type": "code",
   "execution_count": 314,
   "metadata": {},
   "outputs": [],
   "source": [
    "for i in features:\n",
    "    data[i] = winsorize(data[i], limits=[0.01, 0.01]).data"
   ]
  },
  {
   "attachments": {},
   "cell_type": "markdown",
   "metadata": {},
   "source": [
    "## **Saving cleaned dataset**"
   ]
  },
  {
   "cell_type": "code",
   "execution_count": 315,
   "metadata": {},
   "outputs": [],
   "source": [
    "data.to_csv('data_scraping/data/all_data_cleaned.csv', index=False)"
   ]
  },
  {
   "cell_type": "markdown",
   "metadata": {},
   "source": [
    "## **What's next?**"
   ]
  },
  {
   "cell_type": "markdown",
   "metadata": {},
   "source": [
    "The next step will be data analysis consisting of quantitative analysis and price analysis."
   ]
  }
 ],
 "metadata": {
  "kernelspec": {
   "display_name": "Python 3.10.8 64-bit",
   "language": "python",
   "name": "python3"
  },
  "language_info": {
   "codemirror_mode": {
    "name": "ipython",
    "version": 3
   },
   "file_extension": ".py",
   "mimetype": "text/x-python",
   "name": "python",
   "nbconvert_exporter": "python",
   "pygments_lexer": "ipython3",
   "version": "3.11.4"
  },
  "orig_nbformat": 4,
  "vscode": {
   "interpreter": {
    "hash": "a8e24bf02aec0f83b9199d927792c84edea2fa8c2ebcffc93c1d04a213e6b55f"
   }
  }
 },
 "nbformat": 4,
 "nbformat_minor": 2
}
