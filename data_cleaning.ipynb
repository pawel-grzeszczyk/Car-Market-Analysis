{
 "cells": [
  {
   "cell_type": "code",
   "execution_count": 1,
   "metadata": {},
   "outputs": [],
   "source": [
    "import pandas as pd"
   ]
  },
  {
   "attachments": {},
   "cell_type": "markdown",
   "metadata": {},
   "source": [
    "### **Merging all datasets into one**"
   ]
  },
  {
   "cell_type": "code",
   "execution_count": 2,
   "metadata": {},
   "outputs": [
    {
     "data": {
      "text/plain": [
       "\"\\nfrom os import listdir\\n\\nPATH = 'data_scraping/data/datasets/'\\n\\n# Concatenating all datasets\\nfor i, ds in enumerate(listdir(PATH)):\\n    if i == 0:\\n        data = pd.read_csv(f'{PATH}{ds}')\\n    else:\\n        data = pd.concat([data, pd.read_csv(f'{PATH}{ds}')])\\n\\nprint(data.shape)\\ndata.head()\\n\""
      ]
     },
     "execution_count": 2,
     "metadata": {},
     "output_type": "execute_result"
    }
   ],
   "source": [
    "'''\n",
    "from os import listdir\n",
    "\n",
    "PATH = 'data_scraping/data/datasets/'\n",
    "\n",
    "# Concatenating all datasets\n",
    "for i, ds in enumerate(listdir(PATH)):\n",
    "    if i == 0:\n",
    "        data = pd.read_csv(f'{PATH}{ds}')\n",
    "    else:\n",
    "        data = pd.concat([data, pd.read_csv(f'{PATH}{ds}')])\n",
    "\n",
    "print(data.shape)\n",
    "data.head()\n",
    "'''"
   ]
  },
  {
   "cell_type": "code",
   "execution_count": 3,
   "metadata": {},
   "outputs": [
    {
     "data": {
      "text/plain": [
       "\"\\n# Save all data in one file\\ndata.to_csv('data_scraping/data/all_data.csv', index=False)\\n\""
      ]
     },
     "execution_count": 3,
     "metadata": {},
     "output_type": "execute_result"
    }
   ],
   "source": [
    "'''\n",
    "# Save all data in one file\n",
    "data.to_csv('data_scraping/data/all_data.csv', index=False)\n",
    "'''"
   ]
  },
  {
   "attachments": {},
   "cell_type": "markdown",
   "metadata": {},
   "source": [
    "### **Data cleaning**"
   ]
  },
  {
   "cell_type": "code",
   "execution_count": 4,
   "metadata": {},
   "outputs": [
    {
     "data": {
      "text/html": [
       "<div>\n",
       "<style scoped>\n",
       "    .dataframe tbody tr th:only-of-type {\n",
       "        vertical-align: middle;\n",
       "    }\n",
       "\n",
       "    .dataframe tbody tr th {\n",
       "        vertical-align: top;\n",
       "    }\n",
       "\n",
       "    .dataframe thead th {\n",
       "        text-align: right;\n",
       "    }\n",
       "</style>\n",
       "<table border=\"1\" class=\"dataframe\">\n",
       "  <thead>\n",
       "    <tr style=\"text-align: right;\">\n",
       "      <th></th>\n",
       "      <th>Marka pojazdu</th>\n",
       "      <th>Model pojazdu</th>\n",
       "      <th>Rok produkcji</th>\n",
       "      <th>Przebieg</th>\n",
       "      <th>Pojemność skokowa</th>\n",
       "      <th>Rodzaj paliwa</th>\n",
       "      <th>Moc</th>\n",
       "      <th>Skrzynia biegów</th>\n",
       "      <th>Napęd</th>\n",
       "      <th>Spalanie W Mieście</th>\n",
       "      <th>Typ nadwozia</th>\n",
       "      <th>Liczba drzwi</th>\n",
       "      <th>Liczba miejsc</th>\n",
       "      <th>Kolor</th>\n",
       "      <th>Kraj pochodzenia</th>\n",
       "      <th>Bezwypadkowy</th>\n",
       "      <th>Serwisowany w ASO</th>\n",
       "      <th>Stan</th>\n",
       "      <th>Cena</th>\n",
       "    </tr>\n",
       "  </thead>\n",
       "  <tbody>\n",
       "    <tr>\n",
       "      <th>0</th>\n",
       "      <td>Audi</td>\n",
       "      <td>SQ7</td>\n",
       "      <td>2017.0</td>\n",
       "      <td>142 800 km</td>\n",
       "      <td>3 956 cm3</td>\n",
       "      <td>Diesel</td>\n",
       "      <td>435 KM</td>\n",
       "      <td>Automatyczna</td>\n",
       "      <td>4x4 (stały)</td>\n",
       "      <td>8 l/100km</td>\n",
       "      <td>SUV</td>\n",
       "      <td>5.0</td>\n",
       "      <td>7.0</td>\n",
       "      <td>Szary</td>\n",
       "      <td>Polska</td>\n",
       "      <td>Tak</td>\n",
       "      <td>Tak</td>\n",
       "      <td>Używane</td>\n",
       "      <td>269 000        PLN</td>\n",
       "    </tr>\n",
       "    <tr>\n",
       "      <th>1</th>\n",
       "      <td>Audi</td>\n",
       "      <td>A3</td>\n",
       "      <td>2010.0</td>\n",
       "      <td>236 000 km</td>\n",
       "      <td>1 395 cm3</td>\n",
       "      <td>Benzyna</td>\n",
       "      <td>125 KM</td>\n",
       "      <td>Manualna</td>\n",
       "      <td>Na przednie koła</td>\n",
       "      <td>NaN</td>\n",
       "      <td>Kompakt</td>\n",
       "      <td>5.0</td>\n",
       "      <td>5.0</td>\n",
       "      <td>Czarny</td>\n",
       "      <td>NaN</td>\n",
       "      <td>Tak</td>\n",
       "      <td>Tak</td>\n",
       "      <td>Używane</td>\n",
       "      <td>29 900        PLN</td>\n",
       "    </tr>\n",
       "    <tr>\n",
       "      <th>2</th>\n",
       "      <td>Audi</td>\n",
       "      <td>A4</td>\n",
       "      <td>2018.0</td>\n",
       "      <td>84 500 km</td>\n",
       "      <td>1 968 cm3</td>\n",
       "      <td>Diesel</td>\n",
       "      <td>190 KM</td>\n",
       "      <td>Automatyczna</td>\n",
       "      <td>4x4 (stały)</td>\n",
       "      <td>5 l/100km</td>\n",
       "      <td>Kombi</td>\n",
       "      <td>5.0</td>\n",
       "      <td>5.0</td>\n",
       "      <td>Szary</td>\n",
       "      <td>NaN</td>\n",
       "      <td>NaN</td>\n",
       "      <td>NaN</td>\n",
       "      <td>Używane</td>\n",
       "      <td>60 000        PLN</td>\n",
       "    </tr>\n",
       "    <tr>\n",
       "      <th>3</th>\n",
       "      <td>Audi</td>\n",
       "      <td>Q5</td>\n",
       "      <td>2018.0</td>\n",
       "      <td>38 000 km</td>\n",
       "      <td>1 984 cm3</td>\n",
       "      <td>Benzyna</td>\n",
       "      <td>252 KM</td>\n",
       "      <td>Automatyczna</td>\n",
       "      <td>4x4 (stały)</td>\n",
       "      <td>8 l/100km</td>\n",
       "      <td>SUV</td>\n",
       "      <td>5.0</td>\n",
       "      <td>5.0</td>\n",
       "      <td>Szary</td>\n",
       "      <td>NaN</td>\n",
       "      <td>NaN</td>\n",
       "      <td>NaN</td>\n",
       "      <td>Używane</td>\n",
       "      <td>75 000        PLN</td>\n",
       "    </tr>\n",
       "    <tr>\n",
       "      <th>4</th>\n",
       "      <td>Audi</td>\n",
       "      <td>A7</td>\n",
       "      <td>2016.0</td>\n",
       "      <td>74 885 km</td>\n",
       "      <td>2 995 cm3</td>\n",
       "      <td>Benzyna</td>\n",
       "      <td>333 KM</td>\n",
       "      <td>Automatyczna</td>\n",
       "      <td>4x4 (stały)</td>\n",
       "      <td>10 l/100km</td>\n",
       "      <td>Kompakt</td>\n",
       "      <td>5.0</td>\n",
       "      <td>5.0</td>\n",
       "      <td>Biały</td>\n",
       "      <td>NaN</td>\n",
       "      <td>NaN</td>\n",
       "      <td>NaN</td>\n",
       "      <td>Używane</td>\n",
       "      <td>75 000        PLN</td>\n",
       "    </tr>\n",
       "  </tbody>\n",
       "</table>\n",
       "</div>"
      ],
      "text/plain": [
       "  Marka pojazdu Model pojazdu  Rok produkcji    Przebieg Pojemność skokowa  \\\n",
       "0          Audi           SQ7         2017.0  142 800 km         3 956 cm3   \n",
       "1          Audi            A3         2010.0  236 000 km         1 395 cm3   \n",
       "2          Audi            A4         2018.0   84 500 km         1 968 cm3   \n",
       "3          Audi            Q5         2018.0   38 000 km         1 984 cm3   \n",
       "4          Audi            A7         2016.0   74 885 km         2 995 cm3   \n",
       "\n",
       "  Rodzaj paliwa     Moc Skrzynia biegów             Napęd Spalanie W Mieście  \\\n",
       "0        Diesel  435 KM    Automatyczna       4x4 (stały)          8 l/100km   \n",
       "1       Benzyna  125 KM        Manualna  Na przednie koła                NaN   \n",
       "2        Diesel  190 KM    Automatyczna       4x4 (stały)          5 l/100km   \n",
       "3       Benzyna  252 KM    Automatyczna       4x4 (stały)          8 l/100km   \n",
       "4       Benzyna  333 KM    Automatyczna       4x4 (stały)         10 l/100km   \n",
       "\n",
       "  Typ nadwozia  Liczba drzwi  Liczba miejsc   Kolor Kraj pochodzenia  \\\n",
       "0          SUV           5.0            7.0   Szary           Polska   \n",
       "1      Kompakt           5.0            5.0  Czarny              NaN   \n",
       "2        Kombi           5.0            5.0   Szary              NaN   \n",
       "3          SUV           5.0            5.0   Szary              NaN   \n",
       "4      Kompakt           5.0            5.0   Biały              NaN   \n",
       "\n",
       "  Bezwypadkowy Serwisowany w ASO     Stan                Cena  \n",
       "0          Tak               Tak  Używane  269 000        PLN  \n",
       "1          Tak               Tak  Używane   29 900        PLN  \n",
       "2          NaN               NaN  Używane   60 000        PLN  \n",
       "3          NaN               NaN  Używane   75 000        PLN  \n",
       "4          NaN               NaN  Używane   75 000        PLN  "
      ]
     },
     "execution_count": 4,
     "metadata": {},
     "output_type": "execute_result"
    }
   ],
   "source": [
    "data = pd.read_csv('data_scraping/data/all_data.csv')\n",
    "data.head()"
   ]
  },
  {
   "cell_type": "code",
   "execution_count": 5,
   "metadata": {},
   "outputs": [
    {
     "data": {
      "text/plain": [
       "(134057, 19)"
      ]
     },
     "execution_count": 5,
     "metadata": {},
     "output_type": "execute_result"
    }
   ],
   "source": [
    "data.shape"
   ]
  }
 ],
 "metadata": {
  "kernelspec": {
   "display_name": "Python 3.10.8 64-bit",
   "language": "python",
   "name": "python3"
  },
  "language_info": {
   "codemirror_mode": {
    "name": "ipython",
    "version": 3
   },
   "file_extension": ".py",
   "mimetype": "text/x-python",
   "name": "python",
   "nbconvert_exporter": "python",
   "pygments_lexer": "ipython3",
   "version": "3.10.8"
  },
  "orig_nbformat": 4,
  "vscode": {
   "interpreter": {
    "hash": "a8e24bf02aec0f83b9199d927792c84edea2fa8c2ebcffc93c1d04a213e6b55f"
   }
  }
 },
 "nbformat": 4,
 "nbformat_minor": 2
}
